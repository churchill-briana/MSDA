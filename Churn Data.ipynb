{
 "cells": [
  {
   "cell_type": "code",
   "execution_count": 447,
   "id": "7173c7da-57e0-42a1-95c4-f67e14a19087",
   "metadata": {},
   "outputs": [],
   "source": [
    "# Import packages that will be utilized during this process\n",
    "import numpy as np\n",
    "import pandas as pd\n",
    "import matplotlib.pyplot as plt\n",
    "from sklearn.decomposition import PCA"
   ]
  },
  {
   "cell_type": "code",
   "execution_count": 448,
   "id": "34943ef6-4753-430a-b5ec-94bf1dc4cc95",
   "metadata": {},
   "outputs": [],
   "source": [
    "# Remove pandas duplication of the first column within the file\n",
    "df = pd.read_csv('./churn_raw_data.csv', index_col=0)"
   ]
  },
  {
   "cell_type": "code",
   "execution_count": 449,
   "id": "25b00060-6a31-44f4-9e63-bd82301bddbb",
   "metadata": {},
   "outputs": [
    {
     "name": "stdout",
     "output_type": "stream",
     "text": [
      "<class 'pandas.core.frame.DataFrame'>\n",
      "Int64Index: 10000 entries, 1 to 10000\n",
      "Data columns (total 51 columns):\n",
      " #   Column                Non-Null Count  Dtype  \n",
      "---  ------                --------------  -----  \n",
      " 0   CaseOrder             10000 non-null  int64  \n",
      " 1   Customer_id           10000 non-null  object \n",
      " 2   Interaction           10000 non-null  object \n",
      " 3   City                  10000 non-null  object \n",
      " 4   State                 10000 non-null  object \n",
      " 5   County                10000 non-null  object \n",
      " 6   Zip                   10000 non-null  int64  \n",
      " 7   Lat                   10000 non-null  float64\n",
      " 8   Lng                   10000 non-null  float64\n",
      " 9   Population            10000 non-null  int64  \n",
      " 10  Area                  10000 non-null  object \n",
      " 11  Timezone              10000 non-null  object \n",
      " 12  Job                   10000 non-null  object \n",
      " 13  Children              7505 non-null   float64\n",
      " 14  Age                   7525 non-null   float64\n",
      " 15  Education             10000 non-null  object \n",
      " 16  Employment            10000 non-null  object \n",
      " 17  Income                7510 non-null   float64\n",
      " 18  Marital               10000 non-null  object \n",
      " 19  Gender                10000 non-null  object \n",
      " 20  Churn                 10000 non-null  object \n",
      " 21  Outage_sec_perweek    10000 non-null  float64\n",
      " 22  Email                 10000 non-null  int64  \n",
      " 23  Contacts              10000 non-null  int64  \n",
      " 24  Yearly_equip_failure  10000 non-null  int64  \n",
      " 25  Techie                7523 non-null   object \n",
      " 26  Contract              10000 non-null  object \n",
      " 27  Port_modem            10000 non-null  object \n",
      " 28  Tablet                10000 non-null  object \n",
      " 29  InternetService       10000 non-null  object \n",
      " 30  Phone                 8974 non-null   object \n",
      " 31  Multiple              10000 non-null  object \n",
      " 32  OnlineSecurity        10000 non-null  object \n",
      " 33  OnlineBackup          10000 non-null  object \n",
      " 34  DeviceProtection      10000 non-null  object \n",
      " 35  TechSupport           9009 non-null   object \n",
      " 36  StreamingTV           10000 non-null  object \n",
      " 37  StreamingMovies       10000 non-null  object \n",
      " 38  PaperlessBilling      10000 non-null  object \n",
      " 39  PaymentMethod         10000 non-null  object \n",
      " 40  Tenure                9069 non-null   float64\n",
      " 41  MonthlyCharge         10000 non-null  float64\n",
      " 42  Bandwidth_GB_Year     8979 non-null   float64\n",
      " 43  item1                 10000 non-null  int64  \n",
      " 44  item2                 10000 non-null  int64  \n",
      " 45  item3                 10000 non-null  int64  \n",
      " 46  item4                 10000 non-null  int64  \n",
      " 47  item5                 10000 non-null  int64  \n",
      " 48  item6                 10000 non-null  int64  \n",
      " 49  item7                 10000 non-null  int64  \n",
      " 50  item8                 10000 non-null  int64  \n",
      "dtypes: float64(9), int64(14), object(28)\n",
      "memory usage: 4.0+ MB\n"
     ]
    }
   ],
   "source": [
    "# View data types and column information, dataframe as a whole\n",
    "df.info()"
   ]
  },
  {
   "cell_type": "code",
   "execution_count": 450,
   "id": "c13171cf-d707-49b2-83c5-ec62686be8fc",
   "metadata": {},
   "outputs": [
    {
     "name": "stdout",
     "output_type": "stream",
     "text": [
      "       CaseOrder      Zip      Lat      Lng  Population  Children     Age  \\\n",
      "count   10000.00 10000.00 10000.00 10000.00    10000.00   7505.00 7525.00   \n",
      "mean     5000.50 49153.32    38.76   -90.78     9756.56      2.10   53.28   \n",
      "std      2886.90 27532.20     5.44    15.16    14432.70      2.15   20.75   \n",
      "min         1.00   601.00    17.97  -171.69        0.00      0.00   18.00   \n",
      "25%      2500.75 26292.50    35.34   -97.08      738.00      0.00   35.00   \n",
      "50%      5000.50 48869.50    39.40   -87.92     2910.50      1.00   53.00   \n",
      "75%      7500.25 71866.50    42.11   -80.09    13168.00      3.00   71.00   \n",
      "max     10000.00 99929.00    70.64   -65.67   111850.00     10.00   89.00   \n",
      "\n",
      "         Income  Outage_sec_perweek    Email  ...  MonthlyCharge  \\\n",
      "count   7510.00            10000.00 10000.00  ...       10000.00   \n",
      "mean   39936.76               11.45    12.02  ...         174.08   \n",
      "std    28358.47                7.03     3.03  ...          43.34   \n",
      "min      740.66               -1.35     1.00  ...          77.51   \n",
      "25%    19285.52                8.05    10.00  ...         141.07   \n",
      "50%    33186.79               10.20    12.00  ...         169.92   \n",
      "75%    53472.40               12.49    14.00  ...         203.78   \n",
      "max   258900.70               47.05    23.00  ...         315.88   \n",
      "\n",
      "       Bandwidth_GB_Year    item1    item2    item3    item4    item5  \\\n",
      "count            8979.00 10000.00 10000.00 10000.00 10000.00 10000.00   \n",
      "mean             3398.84     3.49     3.51     3.49     3.50     3.49   \n",
      "std              2187.40     1.04     1.03     1.03     1.03     1.02   \n",
      "min               155.51     1.00     1.00     1.00     1.00     1.00   \n",
      "25%              1234.11     3.00     3.00     3.00     3.00     3.00   \n",
      "50%              3382.42     3.00     4.00     3.00     3.00     3.00   \n",
      "75%              5587.10     4.00     4.00     4.00     4.00     4.00   \n",
      "max              7158.98     7.00     7.00     8.00     7.00     7.00   \n",
      "\n",
      "         item6    item7    item8  \n",
      "count 10000.00 10000.00 10000.00  \n",
      "mean      3.50     3.51     3.50  \n",
      "std       1.03     1.03     1.03  \n",
      "min       1.00     1.00     1.00  \n",
      "25%       3.00     3.00     3.00  \n",
      "50%       3.00     4.00     3.00  \n",
      "75%       4.00     4.00     4.00  \n",
      "max       8.00     7.00     8.00  \n",
      "\n",
      "[8 rows x 23 columns]\n"
     ]
    }
   ],
   "source": [
    "# Get summary statistics of the dataset with datatype int64\n",
    "print(df.describe())"
   ]
  },
  {
   "cell_type": "code",
   "execution_count": 451,
   "id": "6810a9c2-5e22-4793-9627-002afd1c95ec",
   "metadata": {},
   "outputs": [
    {
     "data": {
      "text/plain": [
       "Houston         34\n",
       "New York        24\n",
       "Springfield     23\n",
       "Buffalo         23\n",
       "San Antonio     22\n",
       "                ..\n",
       "Cottontown       1\n",
       "San Dimas        1\n",
       "Fort Hill        1\n",
       "Webster          1\n",
       "Clarkesville     1\n",
       "Name: City, Length: 6058, dtype: int64"
      ]
     },
     "execution_count": 451,
     "metadata": {},
     "output_type": "execute_result"
    }
   ],
   "source": [
    "# View data counts to ensure appropriate for values City\n",
    "df.City.value_counts()"
   ]
  },
  {
   "cell_type": "code",
   "execution_count": 452,
   "id": "fcb7e3ff-9058-466b-9030-5ac4a833d240",
   "metadata": {},
   "outputs": [
    {
     "data": {
      "text/plain": [
       "TX    603\n",
       "NY    558\n",
       "PA    550\n",
       "CA    526\n",
       "IL    413\n",
       "OH    359\n",
       "FL    324\n",
       "MO    310\n",
       "VA    285\n",
       "NC    280\n",
       "IA    279\n",
       "MI    279\n",
       "MN    264\n",
       "WV    247\n",
       "IN    241\n",
       "GA    238\n",
       "KY    238\n",
       "WI    228\n",
       "OK    203\n",
       "KS    195\n",
       "NJ    190\n",
       "TN    185\n",
       "AL    181\n",
       "NE    181\n",
       "AR    176\n",
       "WA    175\n",
       "MA    172\n",
       "CO    155\n",
       "LA    141\n",
       "MS    126\n",
       "SC    124\n",
       "MD    123\n",
       "ND    118\n",
       "NM    114\n",
       "OR    114\n",
       "AZ    112\n",
       "ME    112\n",
       "SD    101\n",
       "MT     96\n",
       "NH     85\n",
       "VT     84\n",
       "ID     81\n",
       "AK     77\n",
       "CT     71\n",
       "UT     66\n",
       "NV     48\n",
       "WY     43\n",
       "PR     40\n",
       "HI     35\n",
       "DE     21\n",
       "RI     19\n",
       "DC     14\n",
       "Name: State, dtype: int64"
      ]
     },
     "execution_count": 452,
     "metadata": {},
     "output_type": "execute_result"
    }
   ],
   "source": [
    "# View data counts to ensure appropriate values for State\n",
    "df.State.value_counts()"
   ]
  },
  {
   "cell_type": "code",
   "execution_count": 453,
   "id": "dff4dacb-dff0-40b3-b23e-8dfb91f1b18a",
   "metadata": {},
   "outputs": [
    {
     "data": {
      "text/plain": [
       "Washington     111\n",
       "Jefferson      100\n",
       "Montgomery      99\n",
       "Franklin        92\n",
       "Los Angeles     91\n",
       "              ... \n",
       "Rooks            1\n",
       "Cochise          1\n",
       "Yauco            1\n",
       "Hoke             1\n",
       "Briscoe          1\n",
       "Name: County, Length: 1620, dtype: int64"
      ]
     },
     "execution_count": 453,
     "metadata": {},
     "output_type": "execute_result"
    }
   ],
   "source": [
    "# View data counts to ensure appropriate values for County\n",
    "df.County.value_counts()"
   ]
  },
  {
   "cell_type": "code",
   "execution_count": 454,
   "id": "44eefe4a-104f-4ee5-ab2d-7d08ea03fdbf",
   "metadata": {},
   "outputs": [
    {
     "data": {
      "text/plain": [
       "America/New_York                  4072\n",
       "America/Chicago                   3672\n",
       "America/Los_Angeles                887\n",
       "America/Denver                     552\n",
       "America/Detroit                    265\n",
       "America/Indiana/Indianapolis       186\n",
       "America/Phoenix                    104\n",
       "America/Boise                       57\n",
       "America/Anchorage                   55\n",
       "America/Puerto_Rico                 40\n",
       "Pacific/Honolulu                    35\n",
       "America/Menominee                   16\n",
       "America/Nome                        12\n",
       "America/Kentucky/Louisville         10\n",
       "America/Sitka                        8\n",
       "America/Indiana/Vincennes            6\n",
       "America/Indiana/Tell_City            6\n",
       "America/Toronto                      5\n",
       "America/Indiana/Petersburg           4\n",
       "America/Juneau                       2\n",
       "America/North_Dakota/New_Salem       2\n",
       "America/Indiana/Knox                 1\n",
       "America/Indiana/Winamac              1\n",
       "America/Indiana/Marengo              1\n",
       "America/Ojinaga                      1\n",
       "Name: Timezone, dtype: int64"
      ]
     },
     "execution_count": 454,
     "metadata": {},
     "output_type": "execute_result"
    }
   ],
   "source": [
    "# View data counts to ensure appropriate values for Timezone\n",
    "df.Timezone.value_counts()"
   ]
  },
  {
   "cell_type": "code",
   "execution_count": 455,
   "id": "3315ac4b-efb0-4d2d-b7d2-24b0d7ac2da3",
   "metadata": {},
   "outputs": [
    {
     "data": {
      "text/plain": [
       "Occupational psychologist               30\n",
       "Comptroller                             28\n",
       "Hospital pharmacist                     28\n",
       "Horticultural therapist                 28\n",
       "Ranger/warden                           27\n",
       "                                        ..\n",
       "Control and instrumentation engineer     6\n",
       "Travel agency manager                    6\n",
       "Accountant, chartered certified          6\n",
       "Arboriculturist                          6\n",
       "Toxicologist                             6\n",
       "Name: Job, Length: 639, dtype: int64"
      ]
     },
     "execution_count": 455,
     "metadata": {},
     "output_type": "execute_result"
    }
   ],
   "source": [
    "# View data counts to ensure appropriate values for Job\n",
    "df.Job.value_counts()"
   ]
  },
  {
   "cell_type": "code",
   "execution_count": 456,
   "id": "1e47235c-f22c-4454-be5a-6841ce493868",
   "metadata": {},
   "outputs": [
    {
     "data": {
      "text/plain": [
       "Regular High School Diploma                 2421\n",
       "Bachelor's Degree                           1703\n",
       "Some College, 1 or More Years, No Degree    1562\n",
       "9th Grade to 12th Grade, No Diploma          870\n",
       "Master's Degree                              764\n",
       "Associate's Degree                           760\n",
       "Some College, Less than 1 Year               652\n",
       "Nursery School to 8th Grade                  449\n",
       "GED or Alternative Credential                387\n",
       "Professional School Degree                   198\n",
       "No Schooling Completed                       118\n",
       "Doctorate Degree                             116\n",
       "Name: Education, dtype: int64"
      ]
     },
     "execution_count": 456,
     "metadata": {},
     "output_type": "execute_result"
    }
   ],
   "source": [
    "# View data counts to ensure appropriate values for Education\n",
    "df.Education.value_counts()"
   ]
  },
  {
   "cell_type": "code",
   "execution_count": 457,
   "id": "f8b079ec-baeb-4e2a-a41b-ef0100dbc718",
   "metadata": {},
   "outputs": [
    {
     "data": {
      "text/plain": [
       "Divorced         2092\n",
       "Widowed          2027\n",
       "Separated        2014\n",
       "Never Married    1956\n",
       "Married          1911\n",
       "Name: Marital, dtype: int64"
      ]
     },
     "execution_count": 457,
     "metadata": {},
     "output_type": "execute_result"
    }
   ],
   "source": [
    "# View data counts to ensure appropriate values for Marital\n",
    "df.Marital.value_counts()"
   ]
  },
  {
   "cell_type": "code",
   "execution_count": 458,
   "id": "10d66a98-94e3-44bb-b349-5f49e1f02b5a",
   "metadata": {},
   "outputs": [
    {
     "data": {
      "text/plain": [
       "Female                  5025\n",
       "Male                    4744\n",
       "Prefer not to answer     231\n",
       "Name: Gender, dtype: int64"
      ]
     },
     "execution_count": 458,
     "metadata": {},
     "output_type": "execute_result"
    }
   ],
   "source": [
    "# View data counts to ensure appropriate values for Gender\n",
    "df.Gender.value_counts()"
   ]
  },
  {
   "cell_type": "code",
   "execution_count": 459,
   "id": "626d474c-c8f4-48fe-b664-61f1416f55a2",
   "metadata": {},
   "outputs": [
    {
     "data": {
      "text/plain": [
       "No     7350\n",
       "Yes    2650\n",
       "Name: Churn, dtype: int64"
      ]
     },
     "execution_count": 459,
     "metadata": {},
     "output_type": "execute_result"
    }
   ],
   "source": [
    "# View data counts to ensure appropriate values for Churn\n",
    "df.Churn.value_counts()"
   ]
  },
  {
   "cell_type": "code",
   "execution_count": 460,
   "id": "9a2e692a-9fa6-47df-8845-5176128d0a93",
   "metadata": {},
   "outputs": [
    {
     "data": {
      "text/plain": [
       "0    3680\n",
       "1    3675\n",
       "2    1872\n",
       "3     608\n",
       "4     137\n",
       "5      20\n",
       "6       5\n",
       "7       3\n",
       "Name: Contacts, dtype: int64"
      ]
     },
     "execution_count": 460,
     "metadata": {},
     "output_type": "execute_result"
    }
   ],
   "source": [
    "# View data counts to ensure appropriate values for Contacts\n",
    "df.Contacts.value_counts()"
   ]
  },
  {
   "cell_type": "code",
   "execution_count": 461,
   "id": "4acc3b35-939f-40cd-9c7d-c2518913c910",
   "metadata": {},
   "outputs": [
    {
     "data": {
      "text/plain": [
       "count   10000.00\n",
       "mean        0.40\n",
       "std         0.64\n",
       "min         0.00\n",
       "25%         0.00\n",
       "50%         0.00\n",
       "75%         1.00\n",
       "max         6.00\n",
       "Name: Yearly_equip_failure, dtype: float64"
      ]
     },
     "execution_count": 461,
     "metadata": {},
     "output_type": "execute_result"
    }
   ],
   "source": [
    "# View data counts to ensure appropriate values for Yearly_equip_failure\n",
    "df.Yearly_equip_failure.describe()"
   ]
  },
  {
   "cell_type": "code",
   "execution_count": 462,
   "id": "31b65b4f-d654-43e8-91a1-81f1c48dfd35",
   "metadata": {},
   "outputs": [
    {
     "data": {
      "text/plain": [
       "No     6266\n",
       "Yes    1257\n",
       "Name: Techie, dtype: int64"
      ]
     },
     "execution_count": 462,
     "metadata": {},
     "output_type": "execute_result"
    }
   ],
   "source": [
    "# View data counts to ensure appropriate values for Techie\n",
    "df.Techie.value_counts()"
   ]
  },
  {
   "cell_type": "code",
   "execution_count": 463,
   "id": "fb44251c-38dd-41af-b867-f4b98fca46e8",
   "metadata": {},
   "outputs": [
    {
     "data": {
      "text/plain": [
       "Month-to-month    5456\n",
       "Two Year          2442\n",
       "One year          2102\n",
       "Name: Contract, dtype: int64"
      ]
     },
     "execution_count": 463,
     "metadata": {},
     "output_type": "execute_result"
    }
   ],
   "source": [
    "# View data counts to ensure appropriate values for Contract\n",
    "df.Contract.value_counts()"
   ]
  },
  {
   "cell_type": "code",
   "execution_count": 464,
   "id": "501f3e90-9b09-4330-8f39-c208a4ea6e19",
   "metadata": {},
   "outputs": [
    {
     "data": {
      "text/plain": [
       "No     5166\n",
       "Yes    4834\n",
       "Name: Port_modem, dtype: int64"
      ]
     },
     "execution_count": 464,
     "metadata": {},
     "output_type": "execute_result"
    }
   ],
   "source": [
    "# View data counts to ensure appropriate values for Port_modem\n",
    "df.Port_modem.value_counts()"
   ]
  },
  {
   "cell_type": "code",
   "execution_count": 465,
   "id": "4ad773fa-f13d-4dfd-9d9d-cf5c37f12f9a",
   "metadata": {},
   "outputs": [
    {
     "data": {
      "text/plain": [
       "Fiber Optic    4408\n",
       "DSL            3463\n",
       "None           2129\n",
       "Name: InternetService, dtype: int64"
      ]
     },
     "execution_count": 465,
     "metadata": {},
     "output_type": "execute_result"
    }
   ],
   "source": [
    "# View data counts to ensure appropriate values for InternetService\n",
    "df.InternetService.value_counts()"
   ]
  },
  {
   "cell_type": "code",
   "execution_count": 466,
   "id": "c0a85f86-4585-4f47-aa18-f511a7be79ce",
   "metadata": {},
   "outputs": [
    {
     "data": {
      "text/plain": [
       "Yes    8128\n",
       "No      846\n",
       "Name: Phone, dtype: int64"
      ]
     },
     "execution_count": 466,
     "metadata": {},
     "output_type": "execute_result"
    }
   ],
   "source": [
    "# View data counts to ensure appropriate values for Phone\n",
    "df.Phone.value_counts()"
   ]
  },
  {
   "cell_type": "code",
   "execution_count": 467,
   "id": "573d353c-c817-46aa-817e-8cf93a91b523",
   "metadata": {},
   "outputs": [
    {
     "data": {
      "text/plain": [
       "No     5392\n",
       "Yes    4608\n",
       "Name: Multiple, dtype: int64"
      ]
     },
     "execution_count": 467,
     "metadata": {},
     "output_type": "execute_result"
    }
   ],
   "source": [
    "# View data counts to ensure appropriate values for Multiple\n",
    "df.Multiple.value_counts()"
   ]
  },
  {
   "cell_type": "code",
   "execution_count": 468,
   "id": "76ebdb0b-a779-46d8-89b9-e9ce105e710e",
   "metadata": {},
   "outputs": [
    {
     "data": {
      "text/plain": [
       "No     6424\n",
       "Yes    3576\n",
       "Name: OnlineSecurity, dtype: int64"
      ]
     },
     "execution_count": 468,
     "metadata": {},
     "output_type": "execute_result"
    }
   ],
   "source": [
    "# View data counts to ensure appropriate values for OnlineSecurity\n",
    "df.OnlineSecurity.value_counts()"
   ]
  },
  {
   "cell_type": "code",
   "execution_count": 469,
   "id": "f8cf7f6a-2556-4d95-8165-c2c8ec75abcf",
   "metadata": {},
   "outputs": [
    {
     "data": {
      "text/plain": [
       "No     5494\n",
       "Yes    4506\n",
       "Name: OnlineBackup, dtype: int64"
      ]
     },
     "execution_count": 469,
     "metadata": {},
     "output_type": "execute_result"
    }
   ],
   "source": [
    "# View data counts to ensure appropriate values for OnlineBackup\n",
    "df.OnlineBackup.value_counts()"
   ]
  },
  {
   "cell_type": "code",
   "execution_count": 470,
   "id": "c18e1a40-fb22-40db-abda-cd6070c23802",
   "metadata": {},
   "outputs": [
    {
     "data": {
      "text/plain": [
       "No     5614\n",
       "Yes    4386\n",
       "Name: DeviceProtection, dtype: int64"
      ]
     },
     "execution_count": 470,
     "metadata": {},
     "output_type": "execute_result"
    }
   ],
   "source": [
    "# View data counts to ensure appropriate values for DeviceProtection\n",
    "df.DeviceProtection.value_counts()"
   ]
  },
  {
   "cell_type": "code",
   "execution_count": 471,
   "id": "06b8bbd6-215a-490b-b95f-63f21932c82f",
   "metadata": {},
   "outputs": [
    {
     "data": {
      "text/plain": [
       "No     5635\n",
       "Yes    3374\n",
       "Name: TechSupport, dtype: int64"
      ]
     },
     "execution_count": 471,
     "metadata": {},
     "output_type": "execute_result"
    }
   ],
   "source": [
    "# View data counts to ensure appropriate values for TechSupport\n",
    "df.TechSupport.value_counts()"
   ]
  },
  {
   "cell_type": "code",
   "execution_count": 472,
   "id": "349be90c-4268-4c0c-9d8b-842159d06222",
   "metadata": {},
   "outputs": [
    {
     "data": {
      "text/plain": [
       "No     5071\n",
       "Yes    4929\n",
       "Name: StreamingTV, dtype: int64"
      ]
     },
     "execution_count": 472,
     "metadata": {},
     "output_type": "execute_result"
    }
   ],
   "source": [
    "# View data counts to ensure appropriate values for StreamingTV\n",
    "df.StreamingTV.value_counts()"
   ]
  },
  {
   "cell_type": "code",
   "execution_count": 473,
   "id": "c34663dc-b21b-4bcf-81d5-20aff01a2c5f",
   "metadata": {},
   "outputs": [
    {
     "data": {
      "text/plain": [
       "Yes    5882\n",
       "No     4118\n",
       "Name: PaperlessBilling, dtype: int64"
      ]
     },
     "execution_count": 473,
     "metadata": {},
     "output_type": "execute_result"
    }
   ],
   "source": [
    "# View data counts to ensure appropriate values for PaperlessBilling\n",
    "df.PaperlessBilling.value_counts()"
   ]
  },
  {
   "cell_type": "code",
   "execution_count": 474,
   "id": "0f7adf3f-53ed-4e3f-b5d6-78f43732c1df",
   "metadata": {},
   "outputs": [
    {
     "data": {
      "text/plain": [
       "Electronic Check            3398\n",
       "Mailed Check                2290\n",
       "Bank Transfer(automatic)    2229\n",
       "Credit Card (automatic)     2083\n",
       "Name: PaymentMethod, dtype: int64"
      ]
     },
     "execution_count": 474,
     "metadata": {},
     "output_type": "execute_result"
    }
   ],
   "source": [
    "# View data counts to ensure appropriate values for PaymentMethod\n",
    "df.PaymentMethod.value_counts()"
   ]
  },
  {
   "cell_type": "code",
   "execution_count": 475,
   "id": "c0a5b221-c6f5-4f4e-a978-949f5a50102b",
   "metadata": {},
   "outputs": [
    {
     "data": {
      "text/plain": [
       "69.50    2\n",
       "55.45    2\n",
       "62.87    2\n",
       "66.67    2\n",
       "66.51    1\n",
       "        ..\n",
       "17.41    1\n",
       "4.46     1\n",
       "7.60     1\n",
       "8.44     1\n",
       "63.35    1\n",
       "Name: Tenure, Length: 9065, dtype: int64"
      ]
     },
     "execution_count": 475,
     "metadata": {},
     "output_type": "execute_result"
    }
   ],
   "source": [
    "# View data counts to ensure appropriate values for Tenure\n",
    "df.Tenure.value_counts()"
   ]
  },
  {
   "cell_type": "code",
   "execution_count": 476,
   "id": "08632ab4-33ab-42e0-b734-0bc4f18e9c83",
   "metadata": {},
   "outputs": [
    {
     "name": "stdout",
     "output_type": "stream",
     "text": [
      "1.00025934\n"
     ]
    }
   ],
   "source": [
    "# Get a deeper view of the tenure counts by viewing the minimum value\n",
    "minimum_value = df['Tenure'].min()\n",
    "print(minimum_value)\n"
   ]
  },
  {
   "cell_type": "code",
   "execution_count": 477,
   "id": "88d53b88-14c0-4775-b4c7-9180985551bb",
   "metadata": {},
   "outputs": [
    {
     "name": "stdout",
     "output_type": "stream",
     "text": [
      "71.99928\n"
     ]
    }
   ],
   "source": [
    "# Get a deeper view of the tenure counts by viewing the maximum value\n",
    "maximum_value = df['Tenure'].max()\n",
    "print(maximum_value)"
   ]
  },
  {
   "cell_type": "code",
   "execution_count": 478,
   "id": "3cf162dc-749a-4962-b386-8d66f047ae86",
   "metadata": {},
   "outputs": [
    {
     "name": "stdout",
     "output_type": "stream",
     "text": [
      "CaseOrder                  0\n",
      "Customer_id                0\n",
      "Interaction                0\n",
      "City                       0\n",
      "State                      0\n",
      "County                     0\n",
      "Zip                        0\n",
      "Lat                        0\n",
      "Lng                        0\n",
      "Population                 0\n",
      "Area                       0\n",
      "Timezone                   0\n",
      "Job                        0\n",
      "Children                2495\n",
      "Age                     2475\n",
      "Education                  0\n",
      "Employment                 0\n",
      "Income                  2490\n",
      "Marital                    0\n",
      "Gender                     0\n",
      "Churn                      0\n",
      "Outage_sec_perweek         0\n",
      "Email                      0\n",
      "Contacts                   0\n",
      "Yearly_equip_failure       0\n",
      "Techie                  2477\n",
      "Contract                   0\n",
      "Port_modem                 0\n",
      "Tablet                     0\n",
      "InternetService            0\n",
      "Phone                   1026\n",
      "Multiple                   0\n",
      "OnlineSecurity             0\n",
      "OnlineBackup               0\n",
      "DeviceProtection           0\n",
      "TechSupport              991\n",
      "StreamingTV                0\n",
      "StreamingMovies            0\n",
      "PaperlessBilling           0\n",
      "PaymentMethod              0\n",
      "Tenure                   931\n",
      "MonthlyCharge              0\n",
      "Bandwidth_GB_Year       1021\n",
      "item1                      0\n",
      "item2                      0\n",
      "item3                      0\n",
      "item4                      0\n",
      "item5                      0\n",
      "item6                      0\n",
      "item7                      0\n",
      "item8                      0\n",
      "dtype: int64\n"
     ]
    }
   ],
   "source": [
    "# Check for missing values\n",
    "print(df.isnull().sum())"
   ]
  },
  {
   "cell_type": "code",
   "execution_count": 479,
   "id": "7c269cb5-1888-4d22-8df5-59aade30addd",
   "metadata": {},
   "outputs": [
    {
     "name": "stdout",
     "output_type": "stream",
     "text": [
      "False    10000\n",
      "dtype: int64\n"
     ]
    }
   ],
   "source": [
    "# Check for duplicates\n",
    "duplicates = df.duplicated(keep=False)\n",
    "duplicate_rows = df[duplicates]\n",
    "print(df.duplicated().value_counts())"
   ]
  },
  {
   "cell_type": "code",
   "execution_count": 480,
   "id": "8993071b-32a2-47ba-9531-f69deb3dad82",
   "metadata": {},
   "outputs": [],
   "source": [
    "# Change column names to be all lowercase\n",
    "df.columns = [col.lower() for col in df.columns]"
   ]
  },
  {
   "cell_type": "code",
   "execution_count": 481,
   "id": "3f02c9ce-382d-45bf-b2e5-b9172cbbc605",
   "metadata": {},
   "outputs": [],
   "source": [
    "# Rename the caseorder column for proper spacing\n",
    "df = df.rename(columns={'caseorder': 'case_order'})"
   ]
  },
  {
   "cell_type": "code",
   "execution_count": 482,
   "id": "d0d3479a-7487-45d5-aa32-75cbe4476654",
   "metadata": {},
   "outputs": [],
   "source": [
    "# Rename the outage_sec_perweek column for proper spacing\n",
    "df = df.rename(columns={'outage_sec_perweek': 'outage_sec_per_week'})"
   ]
  },
  {
   "cell_type": "code",
   "execution_count": 483,
   "id": "a4f3c44a-c6e8-4346-aded-a7d3b9539356",
   "metadata": {},
   "outputs": [],
   "source": [
    "# Rename the onlinesecurity column for proper spacing\n",
    "df = df.rename(columns={'onlinesecurity': 'online_security'})"
   ]
  },
  {
   "cell_type": "code",
   "execution_count": 484,
   "id": "4bca1d57-48be-4bcd-a1ea-1fe7515f0bfb",
   "metadata": {},
   "outputs": [],
   "source": [
    "# Rename the internetservice column for proper spacing\n",
    "df = df.rename(columns={'internetservice': 'internet_service'})"
   ]
  },
  {
   "cell_type": "code",
   "execution_count": 485,
   "id": "fcbbe5ad-731b-475e-9b4a-9b8c1c43e222",
   "metadata": {},
   "outputs": [],
   "source": [
    "# Rename the onlinebackup column for proper spacing\n",
    "df = df.rename(columns={'onlinebackup': 'online_backup'})"
   ]
  },
  {
   "cell_type": "code",
   "execution_count": 486,
   "id": "e9ee040e-1423-4b0b-b02f-d46945921beb",
   "metadata": {},
   "outputs": [],
   "source": [
    "# Rename the deviceprotection column for proper spacing\n",
    "df = df.rename(columns={'deviceprotection': 'device_protection'})"
   ]
  },
  {
   "cell_type": "code",
   "execution_count": 487,
   "id": "8ab0dd0c-50ad-4e78-b7ab-2a34d72a5a77",
   "metadata": {},
   "outputs": [],
   "source": [
    "# Rename the techsupport column for proper spacing\n",
    "df = df.rename(columns={'techsupport': 'tech_support'})"
   ]
  },
  {
   "cell_type": "code",
   "execution_count": 488,
   "id": "a456418d-62a7-47ba-ba14-6abbe782f8e9",
   "metadata": {},
   "outputs": [],
   "source": [
    "# Rename the streamingtv column for proper spacing\n",
    "df = df.rename(columns={'streamingtv': 'streaming_tv'})"
   ]
  },
  {
   "cell_type": "code",
   "execution_count": 489,
   "id": "6bbffd9f-d6fd-4a3c-9a90-4ae0a29fb58c",
   "metadata": {},
   "outputs": [],
   "source": [
    "# Rename the streamingmovies column for proper spacing\n",
    "df = df.rename(columns={'streamingmovies': 'streaming_movies'})"
   ]
  },
  {
   "cell_type": "code",
   "execution_count": 490,
   "id": "a2333f51-099b-4baa-afa1-19390399c842",
   "metadata": {},
   "outputs": [],
   "source": [
    "# Rename the paperlessbilling column for proper spacing\n",
    "df = df.rename(columns={'paperlessbilling': 'paperless_billing'})"
   ]
  },
  {
   "cell_type": "code",
   "execution_count": 491,
   "id": "dee5edd6-ad87-4930-a669-37cc465093dc",
   "metadata": {},
   "outputs": [],
   "source": [
    "# Rename the paymentmethod column for proper spacing\n",
    "df = df.rename(columns={'paymentmethod': 'payment_method'})"
   ]
  },
  {
   "cell_type": "code",
   "execution_count": 492,
   "id": "7e3a9f85-a58a-4ff2-b516-756e86a49f96",
   "metadata": {},
   "outputs": [],
   "source": [
    "# Rename the monthlycharge column for proper spacing\n",
    "df = df.rename(columns={'monthlycharge': 'monthly_charge'})"
   ]
  },
  {
   "cell_type": "code",
   "execution_count": 493,
   "id": "29bfc7fb-bf8d-445a-8548-1b81e80d64a0",
   "metadata": {},
   "outputs": [],
   "source": [
    "# Enforce Ordinal Encoding for education\n",
    "df.education.unique()\n",
    "Dict_edu = {'education': {\"Regular High School Diploma\": 12, \"Bachelor's Degree\": 4,\n",
    "\"Some College, 1 or More Years, No Degree\": 1,\"9th Grade to 12th Grade, No Diploma\": 11,\n",
    "                          \"Master's Degree\": 6, \"Associate's Degree\": 2, \n",
    "                          \"Some College, Less than 1 Year\": 13, \n",
    "                          \"Nursery School to 8th Grade\": 8, \"GED or Alternative Credential\": 12,\n",
    "                          \"Professional School Degree\": 10,\"No Schooling Completed\": 0, \n",
    "                          \"Doctorate Degree\": 16, \"unknown\": np.NaN}}"
   ]
  },
  {
   "cell_type": "code",
   "execution_count": 494,
   "id": "c96ac8b0-e254-4605-b34b-67ab767a21b5",
   "metadata": {},
   "outputs": [],
   "source": [
    "# Enforce Ordinal Encoding for churn\n",
    "df.churn.unique()\n",
    "Dict_churn = {'churn': {\"Yes\": 1, \"No\": 2, \"unknown\": np.NaN}}"
   ]
  },
  {
   "cell_type": "code",
   "execution_count": 495,
   "id": "0d7b762f-d26f-442e-afde-2cfc809a0f6d",
   "metadata": {},
   "outputs": [],
   "source": [
    "# Enforce Ordinal Encoding for techie\n",
    "df.techie.unique()\n",
    "Dict_techie = {'techie': {\"Yes\": 1, \"No\": 2, \"unknown\": np.NaN}}"
   ]
  },
  {
   "cell_type": "code",
   "execution_count": 496,
   "id": "5c9af8fb-4d5a-46b2-94d9-22263ece42f9",
   "metadata": {},
   "outputs": [],
   "source": [
    "# Enforce Ordinal Encoding for contract\n",
    "df.contract.unique()\n",
    "Dict_contract = {'contract': {\"Month-to-month\": 0, \"One year\": 1, \n",
    "                              \"Two Year\": 2, \"unknown\": np.NaN}}"
   ]
  },
  {
   "cell_type": "code",
   "execution_count": 497,
   "id": "ec3f56fb-2b43-4889-ab97-2a517a11e628",
   "metadata": {},
   "outputs": [],
   "source": [
    "# Enforce Ordinal Encoding for port_modem\n",
    "df.port_modem.unique()\n",
    "Dict_port_modem = {'port_modem': {\"Yes\": 1, \"No\": 2, \"unknown\": np.NaN}}"
   ]
  },
  {
   "cell_type": "code",
   "execution_count": 498,
   "id": "616270c4-edcb-4600-9755-b15c253fc32b",
   "metadata": {},
   "outputs": [],
   "source": [
    "# Enforce Ordinal Encoding for tablet\n",
    "df.tablet.unique()\n",
    "Dict_tablet = {'tablet': {\"Yes\": 1, \"No\": 2, \"unknown\": np.NaN}}"
   ]
  },
  {
   "cell_type": "code",
   "execution_count": 499,
   "id": "f839eb7d-233a-49de-9050-3ec389deda7e",
   "metadata": {},
   "outputs": [],
   "source": [
    "# Enforce Ordinal Encoding for phone\n",
    "df.phone.unique()\n",
    "Dict_phone = {'phone': {\"Yes\": 1, \"No\": 2, \"unknown\": np.NaN}}"
   ]
  },
  {
   "cell_type": "code",
   "execution_count": 500,
   "id": "94e50d33-dd4d-4cdd-95a4-47c85e85b3bf",
   "metadata": {},
   "outputs": [],
   "source": [
    "# Enforce Ordinal Encoding for multiple\n",
    "df.multiple.unique()\n",
    "Dict_multiple = {'multiple': {\"Yes\": 1, \"No\": 2, \"unknown\": np.NaN}}"
   ]
  },
  {
   "cell_type": "code",
   "execution_count": 501,
   "id": "a9510b1b-87aa-44fc-bcb6-22c81a0a5c8a",
   "metadata": {},
   "outputs": [],
   "source": [
    "# Enforce Ordinal Encoding for onlinesecurity\n",
    "df.online_security.unique()\n",
    "Dict_online_security = {'online_security': {\"Yes\": 1, \"No\": 2, \"unknown\": np.NaN}}"
   ]
  },
  {
   "cell_type": "code",
   "execution_count": 502,
   "id": "ddfd75eb-849f-476d-9229-e7541b2df775",
   "metadata": {},
   "outputs": [],
   "source": [
    "# Enforce Ordinal Encoding for internetservice\n",
    "df.internet_service.unique()\n",
    "Dict_internet_service = {'internet_service': {\"Fiber Optic\": 0, \n",
    "                                              \"DSL\": 1, \"None\": 2, \"unknown\": np.NaN}}"
   ]
  },
  {
   "cell_type": "code",
   "execution_count": 503,
   "id": "21aa875f-89ac-44b4-83df-67f4f46dd2c5",
   "metadata": {},
   "outputs": [],
   "source": [
    "# Enforce Ordinal Encoding for onlinebackup\n",
    "df.online_backup.unique()\n",
    "Dict_online_backup = {'online_backup': {\"Yes\": 1, \"No\": 2, \"unknown\": np.NaN}}"
   ]
  },
  {
   "cell_type": "code",
   "execution_count": 504,
   "id": "1d149880-02f9-49da-9fc3-e05f205a7fc5",
   "metadata": {},
   "outputs": [],
   "source": [
    "# Enforce Ordinal Encoding for deviceprotection\n",
    "df.device_protection.unique()\n",
    "Dict_device_protection = {'device_protection': {\"Yes\": 1, \"No\": 2, \"unknown\": np.NaN}}"
   ]
  },
  {
   "cell_type": "code",
   "execution_count": 505,
   "id": "9fd76d92-0230-4474-83c5-72395f2c4980",
   "metadata": {},
   "outputs": [],
   "source": [
    "# Enforce Ordinal Encoding for techsupport\n",
    "df.tech_support.unique()\n",
    "Dict_tech_support = {'tech_support': {\"Yes\": 1, \"No\": 2, \"unknown\": np.NaN}}"
   ]
  },
  {
   "cell_type": "code",
   "execution_count": 506,
   "id": "b0c9e094-808b-4709-90ec-3498aa040e21",
   "metadata": {},
   "outputs": [],
   "source": [
    "# Enforce Ordinal Encoding for streamingtv, correct name for proper spacing\n",
    "df.streaming_tv.unique()\n",
    "Dict_streaming_tv = {'streaming_tv': {\"Yes\": 1, \"No\": 2, \"unknown\": np.NaN}}"
   ]
  },
  {
   "cell_type": "code",
   "execution_count": 507,
   "id": "c457e3aa-13cb-4cf3-91b4-06730f35178c",
   "metadata": {},
   "outputs": [],
   "source": [
    "# Enforce Ordinal Encoding for streamingmovies, correct name for proper spacing\n",
    "df.streaming_movies.unique()\n",
    "Dict_streaming_movies = {'streaming_movies': {\"Yes\": 1, \"No\": 2, \"unknown\": np.NaN}}"
   ]
  },
  {
   "cell_type": "code",
   "execution_count": 508,
   "id": "577e6d3c-fa94-4b86-b17a-c27a41b2d037",
   "metadata": {},
   "outputs": [],
   "source": [
    "# Enforce Ordinal Encoding for paperlessbilling\n",
    "df.paperless_billing.unique()\n",
    "Dict_paperless_billing = {'paperless_billing': {\"Yes\": 1, \"No\": 2, \"unknown\": np.NaN}}"
   ]
  },
  {
   "cell_type": "code",
   "execution_count": 509,
   "id": "a9029e34-8105-4563-9976-5b68562b289e",
   "metadata": {},
   "outputs": [],
   "source": [
    "#Drop negative value in outage_sec_perweek column\n",
    "df = df[df['outage_sec_per_week'] >= 0]"
   ]
  },
  {
   "cell_type": "code",
   "execution_count": 510,
   "id": "6363f70e-f056-4536-842a-de25c92e0cf6",
   "metadata": {},
   "outputs": [],
   "source": [
    "#Drop 0 value in population column\n",
    "df = df[df['population'] >= 1]"
   ]
  },
  {
   "cell_type": "code",
   "execution_count": 511,
   "id": "12da7e95-8953-4155-9ef6-b5005170774f",
   "metadata": {},
   "outputs": [],
   "source": [
    "# Drop missing values from techie, phone and tech_support\n",
    "df.dropna(subset=['techie', 'phone', 'tech_support'], inplace=True)"
   ]
  },
  {
   "cell_type": "code",
   "execution_count": 512,
   "id": "08b149ed-0d00-4463-8f70-dfb1a22427c8",
   "metadata": {},
   "outputs": [],
   "source": [
    "# To mitigate the 0 tenure and bandwidth values, display all float values\n",
    "pd.set_option('display.float_format', '{:.2f}'.format)"
   ]
  },
  {
   "cell_type": "code",
   "execution_count": 513,
   "id": "9080345b-6990-4fec-beb0-ae2a3149809d",
   "metadata": {},
   "outputs": [],
   "source": [
    "# Replace the null values with -1, for less than one gb per year\n",
    "df['bandwidth_gb_year'] = df['bandwidth_gb_year'].fillna(-1)"
   ]
  },
  {
   "cell_type": "code",
   "execution_count": 514,
   "id": "2e97dde9-70a9-41a9-91bc-eba75796e310",
   "metadata": {},
   "outputs": [],
   "source": [
    "# Replace the null values with -1, for less than one year\n",
    "df['tenure'] = df['tenure'].fillna(-1)"
   ]
  },
  {
   "cell_type": "code",
   "execution_count": 515,
   "id": "486a9f77-beaa-47c4-a349-487107cf64ce",
   "metadata": {},
   "outputs": [],
   "source": [
    "# Calculate the mean value of each remaining column needing null correction\n",
    "age_mean = np.round(df['age'].mean())\n",
    "income_mean = np.round(df['income'].mean())\n",
    "children_mean = np.round(df['children'].mean())"
   ]
  },
  {
   "cell_type": "code",
   "execution_count": 516,
   "id": "b7c5d97d-2530-4dd5-b490-176286b0edf9",
   "metadata": {},
   "outputs": [],
   "source": [
    "# Fill in missing values for age, income, and children with mean values to the nearest whole number\n",
    "df['age'] = df['age'].fillna(age_mean)\n",
    "df['income'] = df['income'].fillna(income_mean)\n",
    "df['children'] = df['children'].fillna(children_mean)"
   ]
  },
  {
   "cell_type": "code",
   "execution_count": 517,
   "id": "3ba532cf-30a1-4bc7-a9c3-a63f7f20d068",
   "metadata": {},
   "outputs": [],
   "source": [
    "# Replace location based timezone values with time-zone specific values\n",
    "df.timezone.replace({\n",
    "    # Change all Pacific cities to PDT - Pacific Daylight Time\n",
    "    \"America/Los_Angeles\": \"PDT - Pacific Daylight Time\",\n",
    "    # Change all Alaskan cities to AT - Alaskan Time\n",
    "    \"America/Anchorage\": \"AT - Alaskan Time\",\n",
    "    \"America/Nome\": \"AT - Alaskan Time\",\n",
    "    \"America/Sitka\": \"AT - Alaskan Time\",\n",
    "    \"America/Juneau\": \"AT - Alaskan Time\",\n",
    "    # Change all Mountain Standard cities to MST - Mountain Standard Time\n",
    "    \"America/Denver\": \"MST - Mountain Standard Time\",\n",
    "    \"America/Phoenix\": \"MST - Mountain Standard Time\",\n",
    "    \"America/Boise\": \"MST - Mountain Standard Time\",\n",
    "    # Change all Central cities to CDT - Central Daylight Time\n",
    "    \"America/Chicago\": \"CDT - Central Daylight Time\",\n",
    "    \"America/Menominee\": \"CDT - Central Daylight Time\",\n",
    "    \"America/Indiana/Tell_City\": \"CDT - Central Daylight Time\",\n",
    "    \"America/North_Dakota/New_Salem\": \"CDT - Central Daylight Time\",\n",
    "    \"America/Indiana/Knox\": \"CDT - Central Daylight Time\",\n",
    "    \"America/Ojinaga\": \"CDT - Central Daylight Time\",\n",
    "    # Change all Eastern cities to EDT - Eastern Daylight Time\n",
    "    \"America/New_York\": \"EDT - Eastern Daylight Time\",\n",
    "    \"America/Detroit\": \"EDT - Eastern Daylight Time\",\n",
    "    \"America/Indiana/Indianapolis\": \"EDT - Eastern Daylight Time\",\n",
    "    \"America/Kentucky/Louisville\": \"EDT - Eastern Daylight Time\",\n",
    "    \"America/Indiana/Vincennes\": \"EDT - Eastern Daylight Time\",\n",
    "    \"America/Toronto\": \"EDT - Eastern Daylight Time\",\n",
    "    \"America/Indiana/Winamac\": \"EDT - Eastern Daylight Time\",\n",
    "    \"America/Indiana/Marengo\": \"EDT - Eastern Daylight Time\",\n",
    "    \"America/Indiana/Petersburg\": \"EDT - Eastern Daylight Time\",\n",
    "    # Change Puerto Rico to AST - Atlantic Standard Time\n",
    "    \"America/Puerto_Rico\": \"AST - Atlantic Standard Time\",\n",
    "    # Change Hawaii to HST - Hawaii Aleutian Time\n",
    "    \"Pacific/Honolulu\": \"HST - Hawaii Aleutian Time\"\n",
    "}, inplace=True)"
   ]
  },
  {
   "cell_type": "code",
   "execution_count": 518,
   "id": "03923b71-16a9-4db5-9500-546408db291f",
   "metadata": {},
   "outputs": [],
   "source": [
    "# Fix minimum zip codes by converting column to string from int64, then front-fill with zeros to fill\n",
    "df['zip'] = df['zip'].astype(\"str\").str.zfill(5)"
   ]
  },
  {
   "cell_type": "code",
   "execution_count": 519,
   "id": "1fbd5f41-0245-4481-8b60-00fa19d181e3",
   "metadata": {},
   "outputs": [],
   "source": [
    "# Convert payment_method column to category from object\n",
    "df[\"payment_method\"] = df[\"payment_method\"].astype(\"category\")"
   ]
  },
  {
   "cell_type": "code",
   "execution_count": 520,
   "id": "1e27871c-e88e-4aa4-8733-d51889264a87",
   "metadata": {},
   "outputs": [],
   "source": [
    "# Convert area column to category from object\n",
    "df[\"area\"] = df[\"area\"].astype(\"category\")"
   ]
  },
  {
   "cell_type": "code",
   "execution_count": 521,
   "id": "47e46595-88b3-4bf9-adf3-624f2ff107d0",
   "metadata": {},
   "outputs": [],
   "source": [
    "# Convert timezone column to category from object\n",
    "df[\"timezone\"] = df[\"timezone\"].astype(\"category\")"
   ]
  },
  {
   "cell_type": "code",
   "execution_count": 522,
   "id": "30b061c9-c605-4bb9-867f-786b1b375956",
   "metadata": {},
   "outputs": [],
   "source": [
    "# Convert marital column to category from object\n",
    "df[\"marital\"] = df[\"marital\"].astype(\"category\")"
   ]
  },
  {
   "cell_type": "code",
   "execution_count": 523,
   "id": "4c750fba-f249-4429-9152-f0addfe1cb08",
   "metadata": {},
   "outputs": [],
   "source": [
    "# Convert item1 column to category from int64\n",
    "df[\"item1\"] = df[\"item1\"].astype(\"category\")"
   ]
  },
  {
   "cell_type": "code",
   "execution_count": 524,
   "id": "f21ac4ed-cee0-4ec8-ba93-0032e38a2641",
   "metadata": {},
   "outputs": [],
   "source": [
    "# Convert item2 column to category from int64\n",
    "df[\"item2\"] = df[\"item2\"].astype(\"category\")"
   ]
  },
  {
   "cell_type": "code",
   "execution_count": 525,
   "id": "dec8a561-7855-4123-a4b7-0abfa37c955c",
   "metadata": {},
   "outputs": [],
   "source": [
    "# Convert item3 column to category from int64\n",
    "df[\"item3\"] = df[\"item3\"].astype(\"category\")"
   ]
  },
  {
   "cell_type": "code",
   "execution_count": 526,
   "id": "5d05c68d-457f-4f70-aea2-0e7834814612",
   "metadata": {},
   "outputs": [],
   "source": [
    "# Convert item4 column to category from int64\n",
    "df[\"item4\"] = df[\"item4\"].astype(\"category\")"
   ]
  },
  {
   "cell_type": "code",
   "execution_count": 527,
   "id": "e0fad03d-5921-4b35-ba9c-e080cbb1aaf4",
   "metadata": {},
   "outputs": [],
   "source": [
    "# Convert item5 column to category from int64\n",
    "df[\"item5\"] = df[\"item5\"].astype(\"category\")"
   ]
  },
  {
   "cell_type": "code",
   "execution_count": 528,
   "id": "2598bbab-28d9-481d-83d3-8ebf557f1a27",
   "metadata": {},
   "outputs": [],
   "source": [
    "# Convert item6 column to category from int64\n",
    "df[\"item6\"] = df[\"item6\"].astype(\"category\")"
   ]
  },
  {
   "cell_type": "code",
   "execution_count": 529,
   "id": "08a533ae-9503-4cfd-8b7d-ee985519b925",
   "metadata": {},
   "outputs": [],
   "source": [
    "# Convert item7 column to category from int64\n",
    "df[\"item7\"] = df[\"item7\"].astype(\"category\")"
   ]
  },
  {
   "cell_type": "code",
   "execution_count": 530,
   "id": "d94f3608-4f09-4549-b704-81008f93b19a",
   "metadata": {},
   "outputs": [],
   "source": [
    "# Convert item8 column to category from int64\n",
    "df[\"item8\"] = df[\"item8\"].astype(\"category\")"
   ]
  },
  {
   "cell_type": "code",
   "execution_count": 531,
   "id": "2a59cfa8-c66f-41d0-8253-12a37dc36ba3",
   "metadata": {},
   "outputs": [],
   "source": [
    "# Correct the gender column to have the value of nonbinary rather than prefer not to answer\n",
    "df.gender = df.gender.str.lower()\n",
    "df.gender.replace({\"prefer not to answer\": \"nonbinary\"}, inplace=True)"
   ]
  },
  {
   "cell_type": "code",
   "execution_count": 532,
   "id": "719b63a6-f0fa-4c01-9771-ada20505baea",
   "metadata": {},
   "outputs": [
    {
     "name": "stdout",
     "output_type": "stream",
     "text": [
      "Index(['case_order', 'customer_id', 'interaction', 'city', 'state', 'county',\n",
      "       'zip', 'lat', 'lng', 'population', 'area', 'timezone', 'job',\n",
      "       'children', 'age', 'education', 'employment', 'income', 'marital',\n",
      "       'gender', 'churn', 'outage_sec_per_week', 'email', 'contacts',\n",
      "       'yearly_equip_failure', 'techie', 'contract', 'port_modem', 'tablet',\n",
      "       'internet_service', 'phone', 'multiple', 'online_security',\n",
      "       'online_backup', 'device_protection', 'tech_support', 'streaming_tv',\n",
      "       'streaming_movies', 'paperless_billing', 'payment_method', 'tenure',\n",
      "       'monthly_charge', 'bandwidth_gb_year', 'item1', 'item2', 'item3',\n",
      "       'item4', 'item5', 'item6', 'item7', 'item8'],\n",
      "      dtype='object')\n"
     ]
    }
   ],
   "source": [
    "print(df.columns)"
   ]
  },
  {
   "cell_type": "code",
   "execution_count": 533,
   "id": "578df71e-de77-42f7-96d1-399af27afc0b",
   "metadata": {},
   "outputs": [
    {
     "name": "stdout",
     "output_type": "stream",
     "text": [
      "case_order              0\n",
      "customer_id             0\n",
      "interaction             0\n",
      "city                    0\n",
      "state                   0\n",
      "county                  0\n",
      "zip                     0\n",
      "lat                     0\n",
      "lng                     0\n",
      "population              0\n",
      "area                    0\n",
      "timezone                0\n",
      "job                     0\n",
      "children                0\n",
      "age                     0\n",
      "education               0\n",
      "employment              0\n",
      "income                  0\n",
      "marital                 0\n",
      "gender                  0\n",
      "churn                   0\n",
      "outage_sec_per_week     0\n",
      "email                   0\n",
      "contacts                0\n",
      "yearly_equip_failure    0\n",
      "techie                  0\n",
      "contract                0\n",
      "port_modem              0\n",
      "tablet                  0\n",
      "internet_service        0\n",
      "phone                   0\n",
      "multiple                0\n",
      "online_security         0\n",
      "online_backup           0\n",
      "device_protection       0\n",
      "tech_support            0\n",
      "streaming_tv            0\n",
      "streaming_movies        0\n",
      "paperless_billing       0\n",
      "payment_method          0\n",
      "tenure                  0\n",
      "monthly_charge          0\n",
      "bandwidth_gb_year       0\n",
      "item1                   0\n",
      "item2                   0\n",
      "item3                   0\n",
      "item4                   0\n",
      "item5                   0\n",
      "item6                   0\n",
      "item7                   0\n",
      "item8                   0\n",
      "dtype: int64\n"
     ]
    }
   ],
   "source": [
    "# Check for missing values\n",
    "print(df.isnull().sum())"
   ]
  },
  {
   "cell_type": "code",
   "execution_count": 534,
   "id": "ee785ae5-083e-4414-8700-feb2b34ccf3a",
   "metadata": {},
   "outputs": [
    {
     "name": "stdout",
     "output_type": "stream",
     "text": [
      "00601\n"
     ]
    }
   ],
   "source": [
    "# Get summary statistics of the dataset with datatype int64\n",
    "print(df.zip.min())"
   ]
  },
  {
   "cell_type": "code",
   "execution_count": 535,
   "id": "c8eba34a-c66d-4f0f-a8b9-567eb4dd0b6d",
   "metadata": {},
   "outputs": [
    {
     "name": "stdout",
     "output_type": "stream",
     "text": [
      "-1.0\n"
     ]
    }
   ],
   "source": [
    "# Verify the changes in the tenure column\n",
    "minimum_value = df['tenure'].min()\n",
    "print(minimum_value)"
   ]
  },
  {
   "cell_type": "code",
   "execution_count": 536,
   "id": "a620b224-62e3-40ab-9474-8753b23170a5",
   "metadata": {},
   "outputs": [
    {
     "name": "stdout",
     "output_type": "stream",
     "text": [
      "-1.0\n"
     ]
    }
   ],
   "source": [
    "# Verify the changes in the bandwidth column\n",
    "minimum_value = df['bandwidth_gb_year'].min()\n",
    "print(minimum_value)"
   ]
  },
  {
   "cell_type": "code",
   "execution_count": 537,
   "id": "2256bdb7-f878-4b22-b28c-ded52b855dbd",
   "metadata": {},
   "outputs": [
    {
     "data": {
      "text/plain": [
       "female       3042\n",
       "male         2846\n",
       "nonbinary     130\n",
       "Name: gender, dtype: int64"
      ]
     },
     "execution_count": 537,
     "metadata": {},
     "output_type": "execute_result"
    }
   ],
   "source": [
    "# View data counts to ensure appropriate values for Gender\n",
    "df.gender.value_counts()"
   ]
  },
  {
   "cell_type": "code",
   "execution_count": 538,
   "id": "2fdc609a-dc5b-4dbe-b396-9a4f9778fc63",
   "metadata": {},
   "outputs": [
    {
     "data": {
      "text/plain": [
       "EDT - Eastern Daylight Time     2785\n",
       "CDT - Central Daylight Time     2166\n",
       "PDT - Pacific Daylight Time      542\n",
       "MST - Mountain Standard Time     430\n",
       "AT - Alaskan Time                 46\n",
       "AST - Atlantic Standard Time      26\n",
       "HST - Hawaii Aleutian Time        23\n",
       "Name: timezone, dtype: int64"
      ]
     },
     "execution_count": 538,
     "metadata": {},
     "output_type": "execute_result"
    }
   ],
   "source": [
    "# View data counts to ensure appropriate values for Timezone\n",
    "df.timezone.value_counts()"
   ]
  },
  {
   "cell_type": "code",
   "execution_count": 539,
   "id": "83f290e6-d855-4eed-a19e-492677d102f6",
   "metadata": {},
   "outputs": [
    {
     "name": "stdout",
     "output_type": "stream",
     "text": [
      "       case_order     lat     lng  population  children     age    income  \\\n",
      "count     6018.00 6018.00 6018.00     6018.00   6018.00 6018.00   6018.00   \n",
      "mean      4958.44   38.76  -90.78     9790.83      2.08   53.22  39911.97   \n",
      "std       2886.46    5.47   15.31    14544.86      1.86   18.02  24156.39   \n",
      "min          1.00   17.97 -170.49        4.00      0.00   18.00    901.21   \n",
      "25%       2457.75   35.39  -97.13      791.50      1.00   41.00  23954.13   \n",
      "50%       4962.50   39.39  -87.72     2994.50      2.00   53.00  39912.00   \n",
      "75%       7430.50   42.11  -80.08    12892.75      3.00   65.00  45248.45   \n",
      "max       9999.00   70.64  -65.68   102433.00     10.00   89.00 212255.30   \n",
      "\n",
      "       outage_sec_per_week   email  contacts  yearly_equip_failure  tenure  \\\n",
      "count              6018.00 6018.00   6018.00               6018.00 6018.00   \n",
      "mean                 11.46   11.97      0.99                  0.40   31.02   \n",
      "std                   7.01    3.04      0.97                  0.64   27.15   \n",
      "min                   0.11    1.00      0.00                  0.00   -1.00   \n",
      "25%                   8.07   10.00      0.00                  0.00    5.68   \n",
      "50%                  10.19   12.00      1.00                  0.00   17.27   \n",
      "75%                  12.49   14.00      2.00                  1.00   60.03   \n",
      "max                  47.05   22.00      7.00                  4.00   72.00   \n",
      "\n",
      "       monthly_charge  bandwidth_gb_year  \n",
      "count         6018.00            6018.00  \n",
      "mean           174.12            3057.32  \n",
      "std             43.36            2304.59  \n",
      "min             77.51              -1.00  \n",
      "25%            141.07            1014.35  \n",
      "50%            170.48            2043.41  \n",
      "75%            203.97            5453.28  \n",
      "max            307.53            7158.98  \n"
     ]
    }
   ],
   "source": [
    "# Get summary statistics of the dataset with datatype int64\n",
    "print(df.describe())"
   ]
  },
  {
   "cell_type": "code",
   "execution_count": 540,
   "id": "06d0bd38-4516-4b6b-8c83-fb966a52eff5",
   "metadata": {},
   "outputs": [
    {
     "name": "stdout",
     "output_type": "stream",
     "text": [
      "<class 'pandas.core.frame.DataFrame'>\n",
      "Int64Index: 6018 entries, 1 to 9999\n",
      "Data columns (total 51 columns):\n",
      " #   Column                Non-Null Count  Dtype   \n",
      "---  ------                --------------  -----   \n",
      " 0   case_order            6018 non-null   int64   \n",
      " 1   customer_id           6018 non-null   object  \n",
      " 2   interaction           6018 non-null   object  \n",
      " 3   city                  6018 non-null   object  \n",
      " 4   state                 6018 non-null   object  \n",
      " 5   county                6018 non-null   object  \n",
      " 6   zip                   6018 non-null   object  \n",
      " 7   lat                   6018 non-null   float64 \n",
      " 8   lng                   6018 non-null   float64 \n",
      " 9   population            6018 non-null   int64   \n",
      " 10  area                  6018 non-null   category\n",
      " 11  timezone              6018 non-null   category\n",
      " 12  job                   6018 non-null   object  \n",
      " 13  children              6018 non-null   float64 \n",
      " 14  age                   6018 non-null   float64 \n",
      " 15  education             6018 non-null   object  \n",
      " 16  employment            6018 non-null   object  \n",
      " 17  income                6018 non-null   float64 \n",
      " 18  marital               6018 non-null   category\n",
      " 19  gender                6018 non-null   object  \n",
      " 20  churn                 6018 non-null   object  \n",
      " 21  outage_sec_per_week   6018 non-null   float64 \n",
      " 22  email                 6018 non-null   int64   \n",
      " 23  contacts              6018 non-null   int64   \n",
      " 24  yearly_equip_failure  6018 non-null   int64   \n",
      " 25  techie                6018 non-null   object  \n",
      " 26  contract              6018 non-null   object  \n",
      " 27  port_modem            6018 non-null   object  \n",
      " 28  tablet                6018 non-null   object  \n",
      " 29  internet_service      6018 non-null   object  \n",
      " 30  phone                 6018 non-null   object  \n",
      " 31  multiple              6018 non-null   object  \n",
      " 32  online_security       6018 non-null   object  \n",
      " 33  online_backup         6018 non-null   object  \n",
      " 34  device_protection     6018 non-null   object  \n",
      " 35  tech_support          6018 non-null   object  \n",
      " 36  streaming_tv          6018 non-null   object  \n",
      " 37  streaming_movies      6018 non-null   object  \n",
      " 38  paperless_billing     6018 non-null   object  \n",
      " 39  payment_method        6018 non-null   category\n",
      " 40  tenure                6018 non-null   float64 \n",
      " 41  monthly_charge        6018 non-null   float64 \n",
      " 42  bandwidth_gb_year     6018 non-null   float64 \n",
      " 43  item1                 6018 non-null   category\n",
      " 44  item2                 6018 non-null   category\n",
      " 45  item3                 6018 non-null   category\n",
      " 46  item4                 6018 non-null   category\n",
      " 47  item5                 6018 non-null   category\n",
      " 48  item6                 6018 non-null   category\n",
      " 49  item7                 6018 non-null   category\n",
      " 50  item8                 6018 non-null   category\n",
      "dtypes: category(12), float64(9), int64(5), object(25)\n",
      "memory usage: 1.9+ MB\n"
     ]
    }
   ],
   "source": [
    "# View data types and column information, dataframe as a whole\n",
    "df.info()"
   ]
  },
  {
   "cell_type": "code",
   "execution_count": 541,
   "id": "bcd4414f-0062-4b7e-9d7e-fe15a757051c",
   "metadata": {},
   "outputs": [
    {
     "data": {
      "text/html": [
       "<div>\n",
       "<style scoped>\n",
       "    .dataframe tbody tr th:only-of-type {\n",
       "        vertical-align: middle;\n",
       "    }\n",
       "\n",
       "    .dataframe tbody tr th {\n",
       "        vertical-align: top;\n",
       "    }\n",
       "\n",
       "    .dataframe thead th {\n",
       "        text-align: right;\n",
       "    }\n",
       "</style>\n",
       "<table border=\"1\" class=\"dataframe\">\n",
       "  <thead>\n",
       "    <tr style=\"text-align: right;\">\n",
       "      <th></th>\n",
       "      <th>case_order</th>\n",
       "      <th>customer_id</th>\n",
       "      <th>interaction</th>\n",
       "      <th>city</th>\n",
       "      <th>state</th>\n",
       "      <th>county</th>\n",
       "      <th>zip</th>\n",
       "      <th>lat</th>\n",
       "      <th>lng</th>\n",
       "      <th>population</th>\n",
       "      <th>...</th>\n",
       "      <th>monthly_charge</th>\n",
       "      <th>bandwidth_gb_year</th>\n",
       "      <th>item1</th>\n",
       "      <th>item2</th>\n",
       "      <th>item3</th>\n",
       "      <th>item4</th>\n",
       "      <th>item5</th>\n",
       "      <th>item6</th>\n",
       "      <th>item7</th>\n",
       "      <th>item8</th>\n",
       "    </tr>\n",
       "  </thead>\n",
       "  <tbody>\n",
       "    <tr>\n",
       "      <th>1</th>\n",
       "      <td>1</td>\n",
       "      <td>K409198</td>\n",
       "      <td>aa90260b-4141-4a24-8e36-b04ce1f4f77b</td>\n",
       "      <td>Point Baker</td>\n",
       "      <td>AK</td>\n",
       "      <td>Prince of Wales-Hyder</td>\n",
       "      <td>99927</td>\n",
       "      <td>56.25</td>\n",
       "      <td>-133.38</td>\n",
       "      <td>38</td>\n",
       "      <td>...</td>\n",
       "      <td>171.45</td>\n",
       "      <td>904.54</td>\n",
       "      <td>5</td>\n",
       "      <td>5</td>\n",
       "      <td>5</td>\n",
       "      <td>3</td>\n",
       "      <td>4</td>\n",
       "      <td>4</td>\n",
       "      <td>3</td>\n",
       "      <td>4</td>\n",
       "    </tr>\n",
       "    <tr>\n",
       "      <th>2</th>\n",
       "      <td>2</td>\n",
       "      <td>S120509</td>\n",
       "      <td>fb76459f-c047-4a9d-8af9-e0f7d4ac2524</td>\n",
       "      <td>West Branch</td>\n",
       "      <td>MI</td>\n",
       "      <td>Ogemaw</td>\n",
       "      <td>48661</td>\n",
       "      <td>44.33</td>\n",
       "      <td>-84.24</td>\n",
       "      <td>10446</td>\n",
       "      <td>...</td>\n",
       "      <td>242.95</td>\n",
       "      <td>800.98</td>\n",
       "      <td>3</td>\n",
       "      <td>4</td>\n",
       "      <td>3</td>\n",
       "      <td>3</td>\n",
       "      <td>4</td>\n",
       "      <td>3</td>\n",
       "      <td>4</td>\n",
       "      <td>4</td>\n",
       "    </tr>\n",
       "    <tr>\n",
       "      <th>3</th>\n",
       "      <td>3</td>\n",
       "      <td>K191035</td>\n",
       "      <td>344d114c-3736-4be5-98f7-c72c281e2d35</td>\n",
       "      <td>Yamhill</td>\n",
       "      <td>OR</td>\n",
       "      <td>Yamhill</td>\n",
       "      <td>97148</td>\n",
       "      <td>45.36</td>\n",
       "      <td>-123.25</td>\n",
       "      <td>3735</td>\n",
       "      <td>...</td>\n",
       "      <td>159.44</td>\n",
       "      <td>2054.71</td>\n",
       "      <td>4</td>\n",
       "      <td>4</td>\n",
       "      <td>2</td>\n",
       "      <td>4</td>\n",
       "      <td>4</td>\n",
       "      <td>3</td>\n",
       "      <td>3</td>\n",
       "      <td>3</td>\n",
       "    </tr>\n",
       "    <tr>\n",
       "      <th>4</th>\n",
       "      <td>4</td>\n",
       "      <td>D90850</td>\n",
       "      <td>abfa2b40-2d43-4994-b15a-989b8c79e311</td>\n",
       "      <td>Del Mar</td>\n",
       "      <td>CA</td>\n",
       "      <td>San Diego</td>\n",
       "      <td>92014</td>\n",
       "      <td>32.97</td>\n",
       "      <td>-117.25</td>\n",
       "      <td>13863</td>\n",
       "      <td>...</td>\n",
       "      <td>120.25</td>\n",
       "      <td>2164.58</td>\n",
       "      <td>4</td>\n",
       "      <td>4</td>\n",
       "      <td>4</td>\n",
       "      <td>2</td>\n",
       "      <td>5</td>\n",
       "      <td>4</td>\n",
       "      <td>3</td>\n",
       "      <td>3</td>\n",
       "    </tr>\n",
       "    <tr>\n",
       "      <th>5</th>\n",
       "      <td>5</td>\n",
       "      <td>K662701</td>\n",
       "      <td>68a861fd-0d20-4e51-a587-8a90407ee574</td>\n",
       "      <td>Needville</td>\n",
       "      <td>TX</td>\n",
       "      <td>Fort Bend</td>\n",
       "      <td>77461</td>\n",
       "      <td>29.38</td>\n",
       "      <td>-95.81</td>\n",
       "      <td>11352</td>\n",
       "      <td>...</td>\n",
       "      <td>150.76</td>\n",
       "      <td>271.49</td>\n",
       "      <td>4</td>\n",
       "      <td>4</td>\n",
       "      <td>4</td>\n",
       "      <td>3</td>\n",
       "      <td>4</td>\n",
       "      <td>4</td>\n",
       "      <td>4</td>\n",
       "      <td>5</td>\n",
       "    </tr>\n",
       "    <tr>\n",
       "      <th>6</th>\n",
       "      <td>6</td>\n",
       "      <td>W303516</td>\n",
       "      <td>2b451d12-6c2b-4cea-a295-ba1d6bced078</td>\n",
       "      <td>Fort Valley</td>\n",
       "      <td>GA</td>\n",
       "      <td>Peach</td>\n",
       "      <td>31030</td>\n",
       "      <td>32.57</td>\n",
       "      <td>-83.89</td>\n",
       "      <td>17701</td>\n",
       "      <td>...</td>\n",
       "      <td>184.40</td>\n",
       "      <td>1039.36</td>\n",
       "      <td>3</td>\n",
       "      <td>3</td>\n",
       "      <td>3</td>\n",
       "      <td>2</td>\n",
       "      <td>4</td>\n",
       "      <td>3</td>\n",
       "      <td>3</td>\n",
       "      <td>3</td>\n",
       "    </tr>\n",
       "    <tr>\n",
       "      <th>7</th>\n",
       "      <td>7</td>\n",
       "      <td>U335188</td>\n",
       "      <td>6630d501-838c-4be4-a59c-6f58c814ed6a</td>\n",
       "      <td>Pioneer</td>\n",
       "      <td>TN</td>\n",
       "      <td>Scott</td>\n",
       "      <td>37847</td>\n",
       "      <td>36.43</td>\n",
       "      <td>-84.28</td>\n",
       "      <td>2535</td>\n",
       "      <td>...</td>\n",
       "      <td>200.06</td>\n",
       "      <td>1907.24</td>\n",
       "      <td>6</td>\n",
       "      <td>5</td>\n",
       "      <td>6</td>\n",
       "      <td>4</td>\n",
       "      <td>1</td>\n",
       "      <td>5</td>\n",
       "      <td>5</td>\n",
       "      <td>5</td>\n",
       "    </tr>\n",
       "    <tr>\n",
       "      <th>8</th>\n",
       "      <td>8</td>\n",
       "      <td>V538685</td>\n",
       "      <td>70ddaa89-b726-49dc-9022-2d655e4c7936</td>\n",
       "      <td>Oklahoma City</td>\n",
       "      <td>OK</td>\n",
       "      <td>Oklahoma</td>\n",
       "      <td>73109</td>\n",
       "      <td>35.43</td>\n",
       "      <td>-97.52</td>\n",
       "      <td>23144</td>\n",
       "      <td>...</td>\n",
       "      <td>114.75</td>\n",
       "      <td>979.61</td>\n",
       "      <td>2</td>\n",
       "      <td>2</td>\n",
       "      <td>2</td>\n",
       "      <td>5</td>\n",
       "      <td>2</td>\n",
       "      <td>3</td>\n",
       "      <td>4</td>\n",
       "      <td>5</td>\n",
       "    </tr>\n",
       "    <tr>\n",
       "      <th>11</th>\n",
       "      <td>11</td>\n",
       "      <td>J980369</td>\n",
       "      <td>89490f4b-765f-431a-b302-580aae7db71a</td>\n",
       "      <td>Little Meadows</td>\n",
       "      <td>PA</td>\n",
       "      <td>Susquehanna</td>\n",
       "      <td>18830</td>\n",
       "      <td>41.95</td>\n",
       "      <td>-76.11</td>\n",
       "      <td>555</td>\n",
       "      <td>...</td>\n",
       "      <td>177.45</td>\n",
       "      <td>2728.77</td>\n",
       "      <td>4</td>\n",
       "      <td>4</td>\n",
       "      <td>4</td>\n",
       "      <td>7</td>\n",
       "      <td>3</td>\n",
       "      <td>3</td>\n",
       "      <td>3</td>\n",
       "      <td>4</td>\n",
       "    </tr>\n",
       "    <tr>\n",
       "      <th>12</th>\n",
       "      <td>12</td>\n",
       "      <td>E243720</td>\n",
       "      <td>c32b8522-d62a-49b1-a77a-e0534cb1378b</td>\n",
       "      <td>Corozal</td>\n",
       "      <td>PR</td>\n",
       "      <td>Corozal</td>\n",
       "      <td>00783</td>\n",
       "      <td>18.30</td>\n",
       "      <td>-66.33</td>\n",
       "      <td>33372</td>\n",
       "      <td>...</td>\n",
       "      <td>148.36</td>\n",
       "      <td>1180.59</td>\n",
       "      <td>4</td>\n",
       "      <td>4</td>\n",
       "      <td>3</td>\n",
       "      <td>4</td>\n",
       "      <td>4</td>\n",
       "      <td>4</td>\n",
       "      <td>3</td>\n",
       "      <td>4</td>\n",
       "    </tr>\n",
       "    <tr>\n",
       "      <th>13</th>\n",
       "      <td>13</td>\n",
       "      <td>F139569</td>\n",
       "      <td>4828f66e-5592-4c61-bbf4-313cf8731f1c</td>\n",
       "      <td>Conesville</td>\n",
       "      <td>IA</td>\n",
       "      <td>Muscatine</td>\n",
       "      <td>52739</td>\n",
       "      <td>41.37</td>\n",
       "      <td>-91.37</td>\n",
       "      <td>556</td>\n",
       "      <td>...</td>\n",
       "      <td>136.43</td>\n",
       "      <td>1196.39</td>\n",
       "      <td>1</td>\n",
       "      <td>2</td>\n",
       "      <td>1</td>\n",
       "      <td>4</td>\n",
       "      <td>3</td>\n",
       "      <td>2</td>\n",
       "      <td>3</td>\n",
       "      <td>3</td>\n",
       "    </tr>\n",
       "    <tr>\n",
       "      <th>15</th>\n",
       "      <td>15</td>\n",
       "      <td>H68068</td>\n",
       "      <td>8dc7ad15-2f59-4c77-9640-6f2c0000b3fc</td>\n",
       "      <td>Hillside</td>\n",
       "      <td>IL</td>\n",
       "      <td>Cook</td>\n",
       "      <td>60162</td>\n",
       "      <td>41.87</td>\n",
       "      <td>-87.90</td>\n",
       "      <td>8165</td>\n",
       "      <td>...</td>\n",
       "      <td>160.81</td>\n",
       "      <td>-1.00</td>\n",
       "      <td>3</td>\n",
       "      <td>3</td>\n",
       "      <td>4</td>\n",
       "      <td>2</td>\n",
       "      <td>3</td>\n",
       "      <td>4</td>\n",
       "      <td>4</td>\n",
       "      <td>2</td>\n",
       "    </tr>\n",
       "    <tr>\n",
       "      <th>16</th>\n",
       "      <td>16</td>\n",
       "      <td>A403906</td>\n",
       "      <td>df437bd4-bd8a-4c8f-8110-11ed1a7723ea</td>\n",
       "      <td>Saint Germain</td>\n",
       "      <td>WI</td>\n",
       "      <td>Vilas</td>\n",
       "      <td>54558</td>\n",
       "      <td>45.92</td>\n",
       "      <td>-89.50</td>\n",
       "      <td>2093</td>\n",
       "      <td>...</td>\n",
       "      <td>176.33</td>\n",
       "      <td>1840.01</td>\n",
       "      <td>3</td>\n",
       "      <td>3</td>\n",
       "      <td>3</td>\n",
       "      <td>2</td>\n",
       "      <td>4</td>\n",
       "      <td>3</td>\n",
       "      <td>5</td>\n",
       "      <td>2</td>\n",
       "    </tr>\n",
       "    <tr>\n",
       "      <th>17</th>\n",
       "      <td>17</td>\n",
       "      <td>V847470</td>\n",
       "      <td>bbf5ca9f-cb89-44ea-ac42-3f5862ebdbd0</td>\n",
       "      <td>Modesto</td>\n",
       "      <td>CA</td>\n",
       "      <td>Stanislaus</td>\n",
       "      <td>95351</td>\n",
       "      <td>37.62</td>\n",
       "      <td>-121.00</td>\n",
       "      <td>50079</td>\n",
       "      <td>...</td>\n",
       "      <td>195.87</td>\n",
       "      <td>2070.38</td>\n",
       "      <td>3</td>\n",
       "      <td>4</td>\n",
       "      <td>4</td>\n",
       "      <td>3</td>\n",
       "      <td>5</td>\n",
       "      <td>4</td>\n",
       "      <td>4</td>\n",
       "      <td>3</td>\n",
       "    </tr>\n",
       "    <tr>\n",
       "      <th>18</th>\n",
       "      <td>18</td>\n",
       "      <td>F721878</td>\n",
       "      <td>5c3548de-4744-4167-9412-3f018262bab2</td>\n",
       "      <td>Parkton</td>\n",
       "      <td>NC</td>\n",
       "      <td>Robeson</td>\n",
       "      <td>28371</td>\n",
       "      <td>34.91</td>\n",
       "      <td>-78.99</td>\n",
       "      <td>7249</td>\n",
       "      <td>...</td>\n",
       "      <td>203.07</td>\n",
       "      <td>882.10</td>\n",
       "      <td>2</td>\n",
       "      <td>2</td>\n",
       "      <td>4</td>\n",
       "      <td>3</td>\n",
       "      <td>3</td>\n",
       "      <td>4</td>\n",
       "      <td>3</td>\n",
       "      <td>3</td>\n",
       "    </tr>\n",
       "  </tbody>\n",
       "</table>\n",
       "<p>15 rows × 51 columns</p>\n",
       "</div>"
      ],
      "text/plain": [
       "    case_order customer_id                           interaction  \\\n",
       "1            1     K409198  aa90260b-4141-4a24-8e36-b04ce1f4f77b   \n",
       "2            2     S120509  fb76459f-c047-4a9d-8af9-e0f7d4ac2524   \n",
       "3            3     K191035  344d114c-3736-4be5-98f7-c72c281e2d35   \n",
       "4            4      D90850  abfa2b40-2d43-4994-b15a-989b8c79e311   \n",
       "5            5     K662701  68a861fd-0d20-4e51-a587-8a90407ee574   \n",
       "6            6     W303516  2b451d12-6c2b-4cea-a295-ba1d6bced078   \n",
       "7            7     U335188  6630d501-838c-4be4-a59c-6f58c814ed6a   \n",
       "8            8     V538685  70ddaa89-b726-49dc-9022-2d655e4c7936   \n",
       "11          11     J980369  89490f4b-765f-431a-b302-580aae7db71a   \n",
       "12          12     E243720  c32b8522-d62a-49b1-a77a-e0534cb1378b   \n",
       "13          13     F139569  4828f66e-5592-4c61-bbf4-313cf8731f1c   \n",
       "15          15      H68068  8dc7ad15-2f59-4c77-9640-6f2c0000b3fc   \n",
       "16          16     A403906  df437bd4-bd8a-4c8f-8110-11ed1a7723ea   \n",
       "17          17     V847470  bbf5ca9f-cb89-44ea-ac42-3f5862ebdbd0   \n",
       "18          18     F721878  5c3548de-4744-4167-9412-3f018262bab2   \n",
       "\n",
       "              city state                 county    zip   lat     lng  \\\n",
       "1      Point Baker    AK  Prince of Wales-Hyder  99927 56.25 -133.38   \n",
       "2      West Branch    MI                 Ogemaw  48661 44.33  -84.24   \n",
       "3          Yamhill    OR                Yamhill  97148 45.36 -123.25   \n",
       "4          Del Mar    CA              San Diego  92014 32.97 -117.25   \n",
       "5        Needville    TX              Fort Bend  77461 29.38  -95.81   \n",
       "6      Fort Valley    GA                  Peach  31030 32.57  -83.89   \n",
       "7          Pioneer    TN                  Scott  37847 36.43  -84.28   \n",
       "8    Oklahoma City    OK               Oklahoma  73109 35.43  -97.52   \n",
       "11  Little Meadows    PA            Susquehanna  18830 41.95  -76.11   \n",
       "12         Corozal    PR                Corozal  00783 18.30  -66.33   \n",
       "13      Conesville    IA              Muscatine  52739 41.37  -91.37   \n",
       "15        Hillside    IL                   Cook  60162 41.87  -87.90   \n",
       "16   Saint Germain    WI                  Vilas  54558 45.92  -89.50   \n",
       "17         Modesto    CA             Stanislaus  95351 37.62 -121.00   \n",
       "18         Parkton    NC                Robeson  28371 34.91  -78.99   \n",
       "\n",
       "    population  ... monthly_charge bandwidth_gb_year item1  item2  item3  \\\n",
       "1           38  ...         171.45            904.54     5      5      5   \n",
       "2        10446  ...         242.95            800.98     3      4      3   \n",
       "3         3735  ...         159.44           2054.71     4      4      2   \n",
       "4        13863  ...         120.25           2164.58     4      4      4   \n",
       "5        11352  ...         150.76            271.49     4      4      4   \n",
       "6        17701  ...         184.40           1039.36     3      3      3   \n",
       "7         2535  ...         200.06           1907.24     6      5      6   \n",
       "8        23144  ...         114.75            979.61     2      2      2   \n",
       "11         555  ...         177.45           2728.77     4      4      4   \n",
       "12       33372  ...         148.36           1180.59     4      4      3   \n",
       "13         556  ...         136.43           1196.39     1      2      1   \n",
       "15        8165  ...         160.81             -1.00     3      3      4   \n",
       "16        2093  ...         176.33           1840.01     3      3      3   \n",
       "17       50079  ...         195.87           2070.38     3      4      4   \n",
       "18        7249  ...         203.07            882.10     2      2      4   \n",
       "\n",
       "   item4 item5  item6 item7 item8  \n",
       "1      3     4      4     3     4  \n",
       "2      3     4      3     4     4  \n",
       "3      4     4      3     3     3  \n",
       "4      2     5      4     3     3  \n",
       "5      3     4      4     4     5  \n",
       "6      2     4      3     3     3  \n",
       "7      4     1      5     5     5  \n",
       "8      5     2      3     4     5  \n",
       "11     7     3      3     3     4  \n",
       "12     4     4      4     3     4  \n",
       "13     4     3      2     3     3  \n",
       "15     2     3      4     4     2  \n",
       "16     2     4      3     5     2  \n",
       "17     3     5      4     4     3  \n",
       "18     3     3      4     3     3  \n",
       "\n",
       "[15 rows x 51 columns]"
      ]
     },
     "execution_count": 541,
     "metadata": {},
     "output_type": "execute_result"
    }
   ],
   "source": [
    "# Save dataframe to CSV, ignore the index to avoid additional unnecessary column\n",
    "df.to_csv('clean_data.csv', index=False)\n",
    "df.head(15)"
   ]
  },
  {
   "cell_type": "code",
   "execution_count": 542,
   "id": "5d9ceaf6-3f01-4c28-a04d-ae5727e38957",
   "metadata": {},
   "outputs": [],
   "source": [
    "# Define features/variables for PCA and store them in a new data frame for the Principal Component Analysis to isolate them from other columns in the dataset\n",
    "df_pca = df[[\"lat\", \"lng\", \"population\", \"children\", \"age\", \"income\", \"outage_sec_per_week\", \"email\" , \"yearly_equip_failure\", \"tenure\", \"monthly_charge\", \"bandwidth_gb_year\"]]"
   ]
  },
  {
   "cell_type": "code",
   "execution_count": 543,
   "id": "d1842630-672a-487a-a634-6db03f875743",
   "metadata": {},
   "outputs": [],
   "source": [
    "# Subtract the mean from the value for each column and then divide by the standard deviation to normalize the data within this new data frame\n",
    "df_pca_normalized = (df_pca-df_pca.mean())/df_pca.std()"
   ]
  },
  {
   "cell_type": "code",
   "execution_count": 544,
   "id": "87baaccb-f032-4f2b-9a64-bb96bc3029ff",
   "metadata": {},
   "outputs": [],
   "source": [
    "# Confirm the shape of the dataframe to determine how many components are going to be applied to the dataset\n",
    "pca = PCA(n_components=df_pca.shape[1])"
   ]
  },
  {
   "cell_type": "code",
   "execution_count": 545,
   "id": "186ac48b-ea7d-41d1-ac74-9edc19cad80e",
   "metadata": {},
   "outputs": [
    {
     "data": {
      "text/html": [
       "<style>#sk-container-id-5 {color: black;background-color: white;}#sk-container-id-5 pre{padding: 0;}#sk-container-id-5 div.sk-toggleable {background-color: white;}#sk-container-id-5 label.sk-toggleable__label {cursor: pointer;display: block;width: 100%;margin-bottom: 0;padding: 0.3em;box-sizing: border-box;text-align: center;}#sk-container-id-5 label.sk-toggleable__label-arrow:before {content: \"▸\";float: left;margin-right: 0.25em;color: #696969;}#sk-container-id-5 label.sk-toggleable__label-arrow:hover:before {color: black;}#sk-container-id-5 div.sk-estimator:hover label.sk-toggleable__label-arrow:before {color: black;}#sk-container-id-5 div.sk-toggleable__content {max-height: 0;max-width: 0;overflow: hidden;text-align: left;background-color: #f0f8ff;}#sk-container-id-5 div.sk-toggleable__content pre {margin: 0.2em;color: black;border-radius: 0.25em;background-color: #f0f8ff;}#sk-container-id-5 input.sk-toggleable__control:checked~div.sk-toggleable__content {max-height: 200px;max-width: 100%;overflow: auto;}#sk-container-id-5 input.sk-toggleable__control:checked~label.sk-toggleable__label-arrow:before {content: \"▾\";}#sk-container-id-5 div.sk-estimator input.sk-toggleable__control:checked~label.sk-toggleable__label {background-color: #d4ebff;}#sk-container-id-5 div.sk-label input.sk-toggleable__control:checked~label.sk-toggleable__label {background-color: #d4ebff;}#sk-container-id-5 input.sk-hidden--visually {border: 0;clip: rect(1px 1px 1px 1px);clip: rect(1px, 1px, 1px, 1px);height: 1px;margin: -1px;overflow: hidden;padding: 0;position: absolute;width: 1px;}#sk-container-id-5 div.sk-estimator {font-family: monospace;background-color: #f0f8ff;border: 1px dotted black;border-radius: 0.25em;box-sizing: border-box;margin-bottom: 0.5em;}#sk-container-id-5 div.sk-estimator:hover {background-color: #d4ebff;}#sk-container-id-5 div.sk-parallel-item::after {content: \"\";width: 100%;border-bottom: 1px solid gray;flex-grow: 1;}#sk-container-id-5 div.sk-label:hover label.sk-toggleable__label {background-color: #d4ebff;}#sk-container-id-5 div.sk-serial::before {content: \"\";position: absolute;border-left: 1px solid gray;box-sizing: border-box;top: 0;bottom: 0;left: 50%;z-index: 0;}#sk-container-id-5 div.sk-serial {display: flex;flex-direction: column;align-items: center;background-color: white;padding-right: 0.2em;padding-left: 0.2em;position: relative;}#sk-container-id-5 div.sk-item {position: relative;z-index: 1;}#sk-container-id-5 div.sk-parallel {display: flex;align-items: stretch;justify-content: center;background-color: white;position: relative;}#sk-container-id-5 div.sk-item::before, #sk-container-id-5 div.sk-parallel-item::before {content: \"\";position: absolute;border-left: 1px solid gray;box-sizing: border-box;top: 0;bottom: 0;left: 50%;z-index: -1;}#sk-container-id-5 div.sk-parallel-item {display: flex;flex-direction: column;z-index: 1;position: relative;background-color: white;}#sk-container-id-5 div.sk-parallel-item:first-child::after {align-self: flex-end;width: 50%;}#sk-container-id-5 div.sk-parallel-item:last-child::after {align-self: flex-start;width: 50%;}#sk-container-id-5 div.sk-parallel-item:only-child::after {width: 0;}#sk-container-id-5 div.sk-dashed-wrapped {border: 1px dashed gray;margin: 0 0.4em 0.5em 0.4em;box-sizing: border-box;padding-bottom: 0.4em;background-color: white;}#sk-container-id-5 div.sk-label label {font-family: monospace;font-weight: bold;display: inline-block;line-height: 1.2em;}#sk-container-id-5 div.sk-label-container {text-align: center;}#sk-container-id-5 div.sk-container {/* jupyter's `normalize.less` sets `[hidden] { display: none; }` but bootstrap.min.css set `[hidden] { display: none !important; }` so we also need the `!important` here to be able to override the default hidden behavior on the sphinx rendered scikit-learn.org. See: https://github.com/scikit-learn/scikit-learn/issues/21755 */display: inline-block !important;position: relative;}#sk-container-id-5 div.sk-text-repr-fallback {display: none;}</style><div id=\"sk-container-id-5\" class=\"sk-top-container\"><div class=\"sk-text-repr-fallback\"><pre>PCA(n_components=12)</pre><b>In a Jupyter environment, please rerun this cell to show the HTML representation or trust the notebook. <br />On GitHub, the HTML representation is unable to render, please try loading this page with nbviewer.org.</b></div><div class=\"sk-container\" hidden><div class=\"sk-item\"><div class=\"sk-estimator sk-toggleable\"><input class=\"sk-toggleable__control sk-hidden--visually\" id=\"sk-estimator-id-5\" type=\"checkbox\" checked><label for=\"sk-estimator-id-5\" class=\"sk-toggleable__label sk-toggleable__label-arrow\">PCA</label><div class=\"sk-toggleable__content\"><pre>PCA(n_components=12)</pre></div></div></div></div></div>"
      ],
      "text/plain": [
       "PCA(n_components=12)"
      ]
     },
     "execution_count": 545,
     "metadata": {},
     "output_type": "execute_result"
    }
   ],
   "source": [
    "# Fit normalized data onto our Principal Component Analysis to confirm that there are 12 components\n",
    "pca.fit(df_pca_normalized)"
   ]
  },
  {
   "cell_type": "code",
   "execution_count": 546,
   "id": "3eff6490-b6cf-4366-ad93-ddf5b18fe2a0",
   "metadata": {},
   "outputs": [],
   "source": [
    "# Transform the data back into a dataframe after completing the PCA\n",
    "df_pca2 = pd.DataFrame(pca.transform(df_pca_normalized), columns=[\"PC1\", \"PC2\", \"PC3\", \"PC4\", \"PC5\", \"PC6\", \"PC7\", \"PC8\", \"PC9\", \"PC10\", \"PC11\" , \"PC12\"])"
   ]
  },
  {
   "cell_type": "code",
   "execution_count": 547,
   "id": "8a496a8c-eda9-42dd-99f5-b7ef07dde32b",
   "metadata": {},
   "outputs": [],
   "source": [
    "# Display the dateframe of each component of the PCA and its corresponding loading\n",
    "pca_loadings = pd.DataFrame(pca.components_.T, \n",
    "columns = [\"PC1\", \"PC2\", \"PC3\", \"PC4\", \"PC5\", \"PC6\", \"PC7\", \"PC8\", \"PC9\", \"PC10\", \"PC11\" , \"PC12\"],\n",
    " index=df_pca_normalized.columns)"
   ]
  },
  {
   "cell_type": "code",
   "execution_count": 548,
   "id": "519e1eea-c0e1-46a7-80f2-bc46f25a2db4",
   "metadata": {},
   "outputs": [
    {
     "data": {
      "text/html": [
       "<div>\n",
       "<style scoped>\n",
       "    .dataframe tbody tr th:only-of-type {\n",
       "        vertical-align: middle;\n",
       "    }\n",
       "\n",
       "    .dataframe tbody tr th {\n",
       "        vertical-align: top;\n",
       "    }\n",
       "\n",
       "    .dataframe thead th {\n",
       "        text-align: right;\n",
       "    }\n",
       "</style>\n",
       "<table border=\"1\" class=\"dataframe\">\n",
       "  <thead>\n",
       "    <tr style=\"text-align: right;\">\n",
       "      <th></th>\n",
       "      <th>PC1</th>\n",
       "      <th>PC2</th>\n",
       "      <th>PC3</th>\n",
       "      <th>PC4</th>\n",
       "      <th>PC5</th>\n",
       "      <th>PC6</th>\n",
       "      <th>PC7</th>\n",
       "      <th>PC8</th>\n",
       "      <th>PC9</th>\n",
       "      <th>PC10</th>\n",
       "      <th>PC11</th>\n",
       "      <th>PC12</th>\n",
       "    </tr>\n",
       "  </thead>\n",
       "  <tbody>\n",
       "    <tr>\n",
       "      <th>lat</th>\n",
       "      <td>0.00</td>\n",
       "      <td>-0.70</td>\n",
       "      <td>-0.03</td>\n",
       "      <td>0.12</td>\n",
       "      <td>-0.16</td>\n",
       "      <td>-0.04</td>\n",
       "      <td>-0.00</td>\n",
       "      <td>0.10</td>\n",
       "      <td>0.02</td>\n",
       "      <td>-0.02</td>\n",
       "      <td>0.67</td>\n",
       "      <td>0.00</td>\n",
       "    </tr>\n",
       "    <tr>\n",
       "      <th>lng</th>\n",
       "      <td>-0.01</td>\n",
       "      <td>0.14</td>\n",
       "      <td>-0.01</td>\n",
       "      <td>-0.82</td>\n",
       "      <td>0.12</td>\n",
       "      <td>-0.01</td>\n",
       "      <td>-0.13</td>\n",
       "      <td>-0.30</td>\n",
       "      <td>0.23</td>\n",
       "      <td>0.05</td>\n",
       "      <td>0.37</td>\n",
       "      <td>0.01</td>\n",
       "    </tr>\n",
       "    <tr>\n",
       "      <th>population</th>\n",
       "      <td>0.01</td>\n",
       "      <td>0.66</td>\n",
       "      <td>0.05</td>\n",
       "      <td>0.33</td>\n",
       "      <td>0.09</td>\n",
       "      <td>0.04</td>\n",
       "      <td>0.08</td>\n",
       "      <td>0.13</td>\n",
       "      <td>-0.10</td>\n",
       "      <td>-0.03</td>\n",
       "      <td>0.64</td>\n",
       "      <td>0.00</td>\n",
       "    </tr>\n",
       "    <tr>\n",
       "      <th>children</th>\n",
       "      <td>-0.01</td>\n",
       "      <td>-0.07</td>\n",
       "      <td>-0.08</td>\n",
       "      <td>-0.33</td>\n",
       "      <td>0.19</td>\n",
       "      <td>0.16</td>\n",
       "      <td>0.75</td>\n",
       "      <td>0.34</td>\n",
       "      <td>-0.36</td>\n",
       "      <td>-0.04</td>\n",
       "      <td>-0.00</td>\n",
       "      <td>0.03</td>\n",
       "    </tr>\n",
       "    <tr>\n",
       "      <th>age</th>\n",
       "      <td>-0.01</td>\n",
       "      <td>0.02</td>\n",
       "      <td>0.02</td>\n",
       "      <td>-0.06</td>\n",
       "      <td>-0.41</td>\n",
       "      <td>0.76</td>\n",
       "      <td>-0.17</td>\n",
       "      <td>-0.16</td>\n",
       "      <td>-0.38</td>\n",
       "      <td>0.20</td>\n",
       "      <td>0.03</td>\n",
       "      <td>-0.02</td>\n",
       "    </tr>\n",
       "    <tr>\n",
       "      <th>income</th>\n",
       "      <td>0.03</td>\n",
       "      <td>-0.10</td>\n",
       "      <td>-0.06</td>\n",
       "      <td>0.28</td>\n",
       "      <td>0.37</td>\n",
       "      <td>0.45</td>\n",
       "      <td>0.34</td>\n",
       "      <td>-0.50</td>\n",
       "      <td>0.43</td>\n",
       "      <td>-0.11</td>\n",
       "      <td>0.01</td>\n",
       "      <td>-0.00</td>\n",
       "    </tr>\n",
       "    <tr>\n",
       "      <th>outage_sec_per_week</th>\n",
       "      <td>0.03</td>\n",
       "      <td>-0.07</td>\n",
       "      <td>0.69</td>\n",
       "      <td>0.04</td>\n",
       "      <td>0.17</td>\n",
       "      <td>-0.05</td>\n",
       "      <td>0.11</td>\n",
       "      <td>-0.00</td>\n",
       "      <td>0.05</td>\n",
       "      <td>0.69</td>\n",
       "      <td>0.00</td>\n",
       "      <td>0.01</td>\n",
       "    </tr>\n",
       "    <tr>\n",
       "      <th>email</th>\n",
       "      <td>-0.05</td>\n",
       "      <td>0.14</td>\n",
       "      <td>0.15</td>\n",
       "      <td>-0.07</td>\n",
       "      <td>-0.64</td>\n",
       "      <td>0.08</td>\n",
       "      <td>0.31</td>\n",
       "      <td>0.26</td>\n",
       "      <td>0.61</td>\n",
       "      <td>-0.05</td>\n",
       "      <td>-0.04</td>\n",
       "      <td>-0.02</td>\n",
       "    </tr>\n",
       "    <tr>\n",
       "      <th>yearly_equip_failure</th>\n",
       "      <td>0.01</td>\n",
       "      <td>-0.07</td>\n",
       "      <td>0.11</td>\n",
       "      <td>-0.08</td>\n",
       "      <td>0.41</td>\n",
       "      <td>0.42</td>\n",
       "      <td>-0.39</td>\n",
       "      <td>0.63</td>\n",
       "      <td>0.26</td>\n",
       "      <td>-0.14</td>\n",
       "      <td>-0.03</td>\n",
       "      <td>-0.00</td>\n",
       "    </tr>\n",
       "    <tr>\n",
       "      <th>tenure</th>\n",
       "      <td>0.70</td>\n",
       "      <td>0.01</td>\n",
       "      <td>-0.05</td>\n",
       "      <td>-0.01</td>\n",
       "      <td>-0.05</td>\n",
       "      <td>0.01</td>\n",
       "      <td>-0.01</td>\n",
       "      <td>0.02</td>\n",
       "      <td>0.03</td>\n",
       "      <td>0.04</td>\n",
       "      <td>-0.01</td>\n",
       "      <td>0.70</td>\n",
       "    </tr>\n",
       "    <tr>\n",
       "      <th>monthly_charge</th>\n",
       "      <td>0.05</td>\n",
       "      <td>-0.04</td>\n",
       "      <td>0.69</td>\n",
       "      <td>-0.06</td>\n",
       "      <td>-0.05</td>\n",
       "      <td>-0.01</td>\n",
       "      <td>0.00</td>\n",
       "      <td>-0.17</td>\n",
       "      <td>-0.20</td>\n",
       "      <td>-0.67</td>\n",
       "      <td>0.00</td>\n",
       "      <td>0.04</td>\n",
       "    </tr>\n",
       "    <tr>\n",
       "      <th>bandwidth_gb_year</th>\n",
       "      <td>0.71</td>\n",
       "      <td>0.00</td>\n",
       "      <td>-0.02</td>\n",
       "      <td>-0.03</td>\n",
       "      <td>-0.02</td>\n",
       "      <td>-0.01</td>\n",
       "      <td>0.02</td>\n",
       "      <td>0.02</td>\n",
       "      <td>0.00</td>\n",
       "      <td>-0.00</td>\n",
       "      <td>-0.00</td>\n",
       "      <td>-0.71</td>\n",
       "    </tr>\n",
       "  </tbody>\n",
       "</table>\n",
       "</div>"
      ],
      "text/plain": [
       "                       PC1   PC2   PC3   PC4   PC5   PC6   PC7   PC8   PC9  \\\n",
       "lat                   0.00 -0.70 -0.03  0.12 -0.16 -0.04 -0.00  0.10  0.02   \n",
       "lng                  -0.01  0.14 -0.01 -0.82  0.12 -0.01 -0.13 -0.30  0.23   \n",
       "population            0.01  0.66  0.05  0.33  0.09  0.04  0.08  0.13 -0.10   \n",
       "children             -0.01 -0.07 -0.08 -0.33  0.19  0.16  0.75  0.34 -0.36   \n",
       "age                  -0.01  0.02  0.02 -0.06 -0.41  0.76 -0.17 -0.16 -0.38   \n",
       "income                0.03 -0.10 -0.06  0.28  0.37  0.45  0.34 -0.50  0.43   \n",
       "outage_sec_per_week   0.03 -0.07  0.69  0.04  0.17 -0.05  0.11 -0.00  0.05   \n",
       "email                -0.05  0.14  0.15 -0.07 -0.64  0.08  0.31  0.26  0.61   \n",
       "yearly_equip_failure  0.01 -0.07  0.11 -0.08  0.41  0.42 -0.39  0.63  0.26   \n",
       "tenure                0.70  0.01 -0.05 -0.01 -0.05  0.01 -0.01  0.02  0.03   \n",
       "monthly_charge        0.05 -0.04  0.69 -0.06 -0.05 -0.01  0.00 -0.17 -0.20   \n",
       "bandwidth_gb_year     0.71  0.00 -0.02 -0.03 -0.02 -0.01  0.02  0.02  0.00   \n",
       "\n",
       "                      PC10  PC11  PC12  \n",
       "lat                  -0.02  0.67  0.00  \n",
       "lng                   0.05  0.37  0.01  \n",
       "population           -0.03  0.64  0.00  \n",
       "children             -0.04 -0.00  0.03  \n",
       "age                   0.20  0.03 -0.02  \n",
       "income               -0.11  0.01 -0.00  \n",
       "outage_sec_per_week   0.69  0.00  0.01  \n",
       "email                -0.05 -0.04 -0.02  \n",
       "yearly_equip_failure -0.14 -0.03 -0.00  \n",
       "tenure                0.04 -0.01  0.70  \n",
       "monthly_charge       -0.67  0.00  0.04  \n",
       "bandwidth_gb_year    -0.00 -0.00 -0.71  "
      ]
     },
     "execution_count": 548,
     "metadata": {},
     "output_type": "execute_result"
    }
   ],
   "source": [
    "# Print out the component loadings to find the correlation coefficients of each Principal Component\n",
    "pca_loadings"
   ]
  },
  {
   "cell_type": "code",
   "execution_count": 549,
   "id": "059ba902-e375-4b75-87a4-272cd1408a4d",
   "metadata": {},
   "outputs": [],
   "source": [
    "covariance_matrix = np.dot(df_pca_normalized.T, df_pca_normalized) / df_pca.shape[0]\n",
    "eigenvalues = [np.dot(eigenvector.T, np.dot(covariance_matrix, eigenvector)) for eigenvector in pca.components_]"
   ]
  },
  {
   "cell_type": "code",
   "execution_count": 550,
   "id": "0bd46318-9797-4068-8ca6-1912810bc7b0",
   "metadata": {},
   "outputs": [
    {
     "data": {
      "image/png": "[encoded data removed]",
      "text/plain": [
       "<Figure size 640x480 with 1 Axes>"
      ]
     },
     "metadata": {},
     "output_type": "display_data"
    }
   ],
   "source": [
    "plt.plot(eigenvalues)\n",
    "plt.xlabel('number of components')\n",
    "plt.ylabel('eigenvalues')\n",
    "plt.axhline(y=1, color= \"red\")\n",
    "plt.show()"
   ]
  },
  {
   "cell_type": "code",
   "execution_count": null,
   "id": "4778d9bc-937e-4d94-aef2-47c03573700f",
   "metadata": {},
   "outputs": [],
   "source": []
  }
 ],
 "metadata": {
  "kernelspec": {
   "display_name": "Python 3 (ipykernel)",
   "language": "python",
   "name": "python3"
  },
  "language_info": {
   "codemirror_mode": {
    "name": "ipython",
    "version": 3
   },
   "file_extension": ".py",
   "mimetype": "text/x-python",
   "name": "python",
   "nbconvert_exporter": "python",
   "pygments_lexer": "ipython3",
   "version": "3.10.9"
  }
 },
 "nbformat": 4,
 "nbformat_minor": 5
}
