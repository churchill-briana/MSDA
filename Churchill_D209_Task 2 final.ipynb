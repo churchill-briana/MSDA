{
 "cells": [
  {
   "cell_type": "code",
   "execution_count": 1,
   "id": "6955b41b-c72f-409d-9eeb-6e2e39228104",
   "metadata": {
    "tags": []
   },
   "outputs": [],
   "source": [
    "# Importing the necessary packages/libraries\n",
    "import numpy as np\n",
    "import pandas as pd\n",
    "import matplotlib.pyplot as plt\n",
    "from sklearn.ensemble import RandomForestClassifier\n",
    "from sklearn.model_selection import train_test_split\n",
    "from sklearn.metrics import mean_squared_error, f1_score\n",
    "from sklearn.model_selection import RandomizedSearchCV, train_test_split\n",
    "from sklearn.metrics import accuracy_score\n",
    "from scipy.stats import randint\n",
    "from sklearn.tree import export_graphviz\n",
    "import graphviz\n",
    "from sklearn.metrics import confusion_matrix, ConfusionMatrixDisplay\n",
    "from sklearn.metrics import roc_auc_score\n",
    "from sklearn.metrics import roc_curve"
   ]
  },
  {
   "cell_type": "code",
   "execution_count": 2,
   "id": "d3183235-9b22-4156-9bec-0abdb0b57c3e",
   "metadata": {
    "tags": []
   },
   "outputs": [],
   "source": [
    "# Remove pandas duplication of the first column within the file\n",
    "df = pd.read_csv('./churn_clean.csv', index_col=0)"
   ]
  },
  {
   "cell_type": "code",
   "execution_count": 3,
   "id": "35d3074f-6e18-4330-bae7-61ee8acf9320",
   "metadata": {
    "tags": []
   },
   "outputs": [
    {
     "name": "stdout",
     "output_type": "stream",
     "text": [
      "<class 'pandas.core.frame.DataFrame'>\n",
      "Index: 10000 entries, 1 to 10000\n",
      "Data columns (total 49 columns):\n",
      " #   Column                Non-Null Count  Dtype  \n",
      "---  ------                --------------  -----  \n",
      " 0   Customer_id           10000 non-null  object \n",
      " 1   Interaction           10000 non-null  object \n",
      " 2   UID                   10000 non-null  object \n",
      " 3   City                  10000 non-null  object \n",
      " 4   State                 10000 non-null  object \n",
      " 5   County                10000 non-null  object \n",
      " 6   Zip                   10000 non-null  int64  \n",
      " 7   Lat                   10000 non-null  float64\n",
      " 8   Lng                   10000 non-null  float64\n",
      " 9   Population            10000 non-null  int64  \n",
      " 10  Area                  10000 non-null  object \n",
      " 11  TimeZone              10000 non-null  object \n",
      " 12  Job                   10000 non-null  object \n",
      " 13  Children              10000 non-null  int64  \n",
      " 14  Age                   10000 non-null  int64  \n",
      " 15  Income                10000 non-null  float64\n",
      " 16  Marital               10000 non-null  object \n",
      " 17  Gender                10000 non-null  object \n",
      " 18  Churn                 10000 non-null  object \n",
      " 19  Outage_sec_perweek    10000 non-null  float64\n",
      " 20  Email                 10000 non-null  int64  \n",
      " 21  Contacts              10000 non-null  int64  \n",
      " 22  Yearly_equip_failure  10000 non-null  int64  \n",
      " 23  Techie                10000 non-null  object \n",
      " 24  Contract              10000 non-null  object \n",
      " 25  Port_modem            10000 non-null  object \n",
      " 26  Tablet                10000 non-null  object \n",
      " 27  InternetService       7871 non-null   object \n",
      " 28  Phone                 10000 non-null  object \n",
      " 29  Multiple              10000 non-null  object \n",
      " 30  OnlineSecurity        10000 non-null  object \n",
      " 31  OnlineBackup          10000 non-null  object \n",
      " 32  DeviceProtection      10000 non-null  object \n",
      " 33  TechSupport           10000 non-null  object \n",
      " 34  StreamingTV           10000 non-null  object \n",
      " 35  StreamingMovies       10000 non-null  object \n",
      " 36  PaperlessBilling      10000 non-null  object \n",
      " 37  PaymentMethod         10000 non-null  object \n",
      " 38  Tenure                10000 non-null  float64\n",
      " 39  MonthlyCharge         10000 non-null  float64\n",
      " 40  Bandwidth_GB_Year     10000 non-null  float64\n",
      " 41  Item1                 10000 non-null  int64  \n",
      " 42  Item2                 10000 non-null  int64  \n",
      " 43  Item3                 10000 non-null  int64  \n",
      " 44  Item4                 10000 non-null  int64  \n",
      " 45  Item5                 10000 non-null  int64  \n",
      " 46  Item6                 10000 non-null  int64  \n",
      " 47  Item7                 10000 non-null  int64  \n",
      " 48  Item8                 10000 non-null  int64  \n",
      "dtypes: float64(7), int64(15), object(27)\n",
      "memory usage: 3.8+ MB\n"
     ]
    }
   ],
   "source": [
    "# View data types and column information, dataframe as a whole\n",
    "df.info()"
   ]
  },
  {
   "cell_type": "code",
   "execution_count": 4,
   "id": "ade311de-c645-4eab-86ca-f26450b6ac3f",
   "metadata": {
    "tags": []
   },
   "outputs": [
    {
     "name": "stdout",
     "output_type": "stream",
     "text": [
      "Customer_id                0\n",
      "Interaction                0\n",
      "UID                        0\n",
      "City                       0\n",
      "State                      0\n",
      "County                     0\n",
      "Zip                        0\n",
      "Lat                        0\n",
      "Lng                        0\n",
      "Population                 0\n",
      "Area                       0\n",
      "TimeZone                   0\n",
      "Job                        0\n",
      "Children                   0\n",
      "Age                        0\n",
      "Income                     0\n",
      "Marital                    0\n",
      "Gender                     0\n",
      "Churn                      0\n",
      "Outage_sec_perweek         0\n",
      "Email                      0\n",
      "Contacts                   0\n",
      "Yearly_equip_failure       0\n",
      "Techie                     0\n",
      "Contract                   0\n",
      "Port_modem                 0\n",
      "Tablet                     0\n",
      "InternetService         2129\n",
      "Phone                      0\n",
      "Multiple                   0\n",
      "OnlineSecurity             0\n",
      "OnlineBackup               0\n",
      "DeviceProtection           0\n",
      "TechSupport                0\n",
      "StreamingTV                0\n",
      "StreamingMovies            0\n",
      "PaperlessBilling           0\n",
      "PaymentMethod              0\n",
      "Tenure                     0\n",
      "MonthlyCharge              0\n",
      "Bandwidth_GB_Year          0\n",
      "Item1                      0\n",
      "Item2                      0\n",
      "Item3                      0\n",
      "Item4                      0\n",
      "Item5                      0\n",
      "Item6                      0\n",
      "Item7                      0\n",
      "Item8                      0\n",
      "dtype: int64\n"
     ]
    }
   ],
   "source": [
    "# Check for missing values\n",
    "print(df.isnull().sum())"
   ]
  },
  {
   "cell_type": "code",
   "execution_count": 5,
   "id": "25fc35b9-7e71-44fc-829c-3e5cc9c1e6e6",
   "metadata": {
    "tags": []
   },
   "outputs": [],
   "source": [
    "# Clean up and prepare the data\n",
    "# Rename the Outage column for proper spacing and easier understanding\n",
    "df = df.rename(columns={'Outage_sec_perweek': 'Outages'})\n",
    "\n",
    "# Rename the Internetservice column for easier understanding\n",
    "df = df.rename(columns={'InternetService': 'Internet'});\n",
    "\n",
    "# Rename the Techsupport column for proper spacing\n",
    "df = df.rename(columns={'TechSupport': 'Tech_Support'})\n",
    "\n",
    "# Rename the Yearly_equip_failure column for easier understanding\n",
    "df = df.rename(columns={'Yearly_equip_failure': 'Equipment_Failures'})\n",
    "\n",
    "# Rename the Bandwidth_GB_Year column for proper spacing and easier understanding\n",
    "df = df.rename(columns={'Bandwidth_GB_Year': 'Bandwidth_Usage'})\n",
    "\n",
    "# Rename the Onlinesecurity column for proper spacing\n",
    "df = df.rename(columns={'OnlineSecurity': 'Online_Security'});\n",
    "\n",
    "# Rename the Onlinebackup column for proper spacing\n",
    "df = df.rename(columns={'OnlineBackup': 'Online_Backup'});\n",
    "\n",
    "# Rename the Streamingtv column for proper spacing\n",
    "df = df.rename(columns={'StreamingTV': 'Streaming_TV'})\n",
    "\n",
    "# Rename the Streamingmovies column for proper spacing\n",
    "df = df.rename(columns={'StreamingMovies': 'Streaming_Movies'})\n",
    "\n",
    "# Rename the Port_modem column for easier understanding\n",
    "df = df.rename(columns={'Port_modem': 'Modem'})\n",
    "\n",
    "#Drop null internet values, as we are only looking at customers with internet service\n",
    "df.dropna(subset=['Internet'], inplace=True)\n",
    "\n",
    "# Rename items in 'Contract' to better understand dummy variables in later analysis\n",
    "df['Contract'] = df['Contract'].replace({'Month-to-month': 'Month', 'Two Year': 'Two' , 'One year' : 'One'})\n",
    "\n",
    "# Minimalize decimal places in applicable columns to limit data points for better understanding of the data\n",
    "df[\"Outages\"] = df.Outages.round(2)\n",
    "df[\"Equipment_Failures\"] = df.Equipment_Failures.round(2)\n",
    "df[\"Age\"] = df.Age.round(2)\n",
    "df[\"Income\"] = df.Income.round(2)\n",
    "df[\"Bandwidth_Usage\"] = df.Bandwidth_Usage.round(2)"
   ]
  },
  {
   "cell_type": "code",
   "execution_count": 6,
   "id": "9b21843f-4dad-44f6-a4ad-819ec31c9a3c",
   "metadata": {
    "tags": []
   },
   "outputs": [
    {
     "data": {
      "text/html": [
       "<div>\n",
       "<style scoped>\n",
       "    .dataframe tbody tr th:only-of-type {\n",
       "        vertical-align: middle;\n",
       "    }\n",
       "\n",
       "    .dataframe tbody tr th {\n",
       "        vertical-align: top;\n",
       "    }\n",
       "\n",
       "    .dataframe thead th {\n",
       "        text-align: right;\n",
       "    }\n",
       "</style>\n",
       "<table border=\"1\" class=\"dataframe\">\n",
       "  <thead>\n",
       "    <tr style=\"text-align: right;\">\n",
       "      <th></th>\n",
       "      <th>Children</th>\n",
       "      <th>Age</th>\n",
       "      <th>Income</th>\n",
       "      <th>Outages</th>\n",
       "      <th>Equipment_Failures</th>\n",
       "      <th>Techie</th>\n",
       "      <th>Modem</th>\n",
       "      <th>Tablet</th>\n",
       "      <th>Internet</th>\n",
       "      <th>Multiple</th>\n",
       "      <th>...</th>\n",
       "      <th>Bandwidth_Usage</th>\n",
       "      <th>Contract_Month</th>\n",
       "      <th>Contract_One</th>\n",
       "      <th>Contract_Two</th>\n",
       "      <th>Gender_Female</th>\n",
       "      <th>Gender_Male</th>\n",
       "      <th>Gender_Nonbinary</th>\n",
       "      <th>Area_Rural</th>\n",
       "      <th>Area_Suburban</th>\n",
       "      <th>Area_Urban</th>\n",
       "    </tr>\n",
       "    <tr>\n",
       "      <th>CaseOrder</th>\n",
       "      <th></th>\n",
       "      <th></th>\n",
       "      <th></th>\n",
       "      <th></th>\n",
       "      <th></th>\n",
       "      <th></th>\n",
       "      <th></th>\n",
       "      <th></th>\n",
       "      <th></th>\n",
       "      <th></th>\n",
       "      <th></th>\n",
       "      <th></th>\n",
       "      <th></th>\n",
       "      <th></th>\n",
       "      <th></th>\n",
       "      <th></th>\n",
       "      <th></th>\n",
       "      <th></th>\n",
       "      <th></th>\n",
       "      <th></th>\n",
       "      <th></th>\n",
       "    </tr>\n",
       "  </thead>\n",
       "  <tbody>\n",
       "    <tr>\n",
       "      <th>1</th>\n",
       "      <td>0</td>\n",
       "      <td>68</td>\n",
       "      <td>28561</td>\n",
       "      <td>7</td>\n",
       "      <td>1</td>\n",
       "      <td>0</td>\n",
       "      <td>1</td>\n",
       "      <td>1</td>\n",
       "      <td>1</td>\n",
       "      <td>0</td>\n",
       "      <td>...</td>\n",
       "      <td>904</td>\n",
       "      <td>0</td>\n",
       "      <td>1</td>\n",
       "      <td>0</td>\n",
       "      <td>0</td>\n",
       "      <td>1</td>\n",
       "      <td>0</td>\n",
       "      <td>0</td>\n",
       "      <td>0</td>\n",
       "      <td>1</td>\n",
       "    </tr>\n",
       "    <tr>\n",
       "      <th>2</th>\n",
       "      <td>1</td>\n",
       "      <td>27</td>\n",
       "      <td>21704</td>\n",
       "      <td>11</td>\n",
       "      <td>1</td>\n",
       "      <td>1</td>\n",
       "      <td>0</td>\n",
       "      <td>1</td>\n",
       "      <td>1</td>\n",
       "      <td>1</td>\n",
       "      <td>...</td>\n",
       "      <td>800</td>\n",
       "      <td>1</td>\n",
       "      <td>0</td>\n",
       "      <td>0</td>\n",
       "      <td>1</td>\n",
       "      <td>0</td>\n",
       "      <td>0</td>\n",
       "      <td>0</td>\n",
       "      <td>0</td>\n",
       "      <td>1</td>\n",
       "    </tr>\n",
       "    <tr>\n",
       "      <th>3</th>\n",
       "      <td>4</td>\n",
       "      <td>50</td>\n",
       "      <td>9609</td>\n",
       "      <td>10</td>\n",
       "      <td>1</td>\n",
       "      <td>1</td>\n",
       "      <td>1</td>\n",
       "      <td>0</td>\n",
       "      <td>0</td>\n",
       "      <td>1</td>\n",
       "      <td>...</td>\n",
       "      <td>2054</td>\n",
       "      <td>0</td>\n",
       "      <td>0</td>\n",
       "      <td>1</td>\n",
       "      <td>1</td>\n",
       "      <td>0</td>\n",
       "      <td>0</td>\n",
       "      <td>0</td>\n",
       "      <td>0</td>\n",
       "      <td>1</td>\n",
       "    </tr>\n",
       "    <tr>\n",
       "      <th>4</th>\n",
       "      <td>1</td>\n",
       "      <td>48</td>\n",
       "      <td>18925</td>\n",
       "      <td>14</td>\n",
       "      <td>0</td>\n",
       "      <td>1</td>\n",
       "      <td>0</td>\n",
       "      <td>0</td>\n",
       "      <td>0</td>\n",
       "      <td>0</td>\n",
       "      <td>...</td>\n",
       "      <td>2164</td>\n",
       "      <td>0</td>\n",
       "      <td>0</td>\n",
       "      <td>1</td>\n",
       "      <td>0</td>\n",
       "      <td>1</td>\n",
       "      <td>0</td>\n",
       "      <td>0</td>\n",
       "      <td>1</td>\n",
       "      <td>0</td>\n",
       "    </tr>\n",
       "    <tr>\n",
       "      <th>5</th>\n",
       "      <td>0</td>\n",
       "      <td>83</td>\n",
       "      <td>40074</td>\n",
       "      <td>8</td>\n",
       "      <td>1</td>\n",
       "      <td>0</td>\n",
       "      <td>1</td>\n",
       "      <td>0</td>\n",
       "      <td>1</td>\n",
       "      <td>0</td>\n",
       "      <td>...</td>\n",
       "      <td>271</td>\n",
       "      <td>1</td>\n",
       "      <td>0</td>\n",
       "      <td>0</td>\n",
       "      <td>0</td>\n",
       "      <td>1</td>\n",
       "      <td>0</td>\n",
       "      <td>0</td>\n",
       "      <td>1</td>\n",
       "      <td>0</td>\n",
       "    </tr>\n",
       "  </tbody>\n",
       "</table>\n",
       "<p>5 rows × 25 columns</p>\n",
       "</div>"
      ],
      "text/plain": [
       "           Children  Age  Income  Outages  Equipment_Failures Techie Modem  \\\n",
       "CaseOrder                                                                    \n",
       "1                 0   68   28561        7                   1      0     1   \n",
       "2                 1   27   21704       11                   1      1     0   \n",
       "3                 4   50    9609       10                   1      1     1   \n",
       "4                 1   48   18925       14                   0      1     0   \n",
       "5                 0   83   40074        8                   1      0     1   \n",
       "\n",
       "          Tablet  Internet Multiple  ... Bandwidth_Usage Contract_Month  \\\n",
       "CaseOrder                            ...                                  \n",
       "1              1         1        0  ...             904              0   \n",
       "2              1         1        1  ...             800              1   \n",
       "3              0         0        1  ...            2054              0   \n",
       "4              0         0        0  ...            2164              0   \n",
       "5              0         1        0  ...             271              1   \n",
       "\n",
       "          Contract_One Contract_Two Gender_Female  Gender_Male  \\\n",
       "CaseOrder                                                        \n",
       "1                    1            0             0            1   \n",
       "2                    0            0             1            0   \n",
       "3                    0            1             1            0   \n",
       "4                    0            1             0            1   \n",
       "5                    0            0             0            1   \n",
       "\n",
       "           Gender_Nonbinary  Area_Rural  Area_Suburban  Area_Urban  \n",
       "CaseOrder                                                           \n",
       "1                         0           0              0           1  \n",
       "2                         0           0              0           1  \n",
       "3                         0           0              0           1  \n",
       "4                         0           0              1           0  \n",
       "5                         0           0              1           0  \n",
       "\n",
       "[5 rows x 25 columns]"
      ]
     },
     "execution_count": 6,
     "metadata": {},
     "output_type": "execute_result"
    }
   ],
   "source": [
    "# Convert Multiple column to category from object\n",
    "df[\"Multiple\"] = df[\"Multiple\"].astype(\"category\")\n",
    "\n",
    "# Convert Gender column to category from object\n",
    "df[\"Gender\"] = df[\"Gender\"].astype(\"category\")\n",
    "\n",
    "# Convert Contract column to category from object\n",
    "df[\"Contract\"] = df[\"Contract\"].astype(\"category\")\n",
    "\n",
    "# Convert Tech Support column to category from object\n",
    "df[\"Tech_Support\"] = df[\"Tech_Support\"].astype(\"category\")\n",
    "\n",
    "# Convert Techie column to category from object\n",
    "df[\"Techie\"] = df[\"Techie\"].astype(\"category\")\n",
    "\n",
    "# Convert Modem column to category from object\n",
    "df[\"Modem\"] = df[\"Modem\"].astype(\"category\")\n",
    "\n",
    "# Convert Tablet column to category from object\n",
    "df[\"Tablet\"] = df[\"Tablet\"].astype(\"category\")\n",
    "\n",
    "# Convert Streaming_TV column to category from object\n",
    "df[\"Streaming_TV\"] = df[\"Streaming_TV\"].astype(\"category\")\n",
    "\n",
    "# Convert Streaming_Movies column to category from object\n",
    "df[\"Streaming_Movies\"] = df[\"Streaming_Movies\"].astype(\"category\")\n",
    "\n",
    "# Convert Online_Security column to category from object\n",
    "df[\"Online_Security\"] = df[\"Online_Security\"].astype(\"category\")\n",
    "\n",
    "# Convert Online_Backup column to category from object\n",
    "df[\"Online_Backup\"] = df[\"Online_Backup\"].astype(\"category\")\n",
    "\n",
    "# Convert numeric values to int\n",
    "df[\"Income\"] = df[\"Income\"].astype(int)\n",
    "df[\"Children\"] = df[\"Children\"].astype(int) \n",
    "df[\"Age\"] = df[\"Age\"].astype(int) \n",
    "df[\"Tenure\"] = df[\"Tenure\"].astype(int) \n",
    "df[\"Bandwidth_Usage\"] = df[\"Bandwidth_Usage\"].astype(int); \n",
    "df[\"Equipment_Failures\"] = df[\"Equipment_Failures\"].astype(int);\n",
    "df[\"Outages\"] = df[\"Outages\"].astype(int);\n",
    "                                             \n",
    "# Change all yes/no values to 1 or 0 by mapping\n",
    "Cd_map = {'Yes': 1, 'No': 0};\n",
    "\n",
    "# Apply the mapping to applicable columns\n",
    "convert = [\"Tech_Support\" , \"Multiple\" , \"Techie\" , \"Equipment_Failures\" , \"Modem\" , \"Tablet\" ,\n",
    "            \"Online_Backup\" , \"Online_Security\" ,\"Streaming_Movies\" , \"Streaming_TV\"]\n",
    "df[convert] = df[convert].replace(Cd_map);\n",
    "\n",
    "# Rename items in 'Internet' to better understand dummy variables in later analysis\n",
    "df['Internet'] = df['Internet'].replace({'Fiber Optic': 'Optic', 'DSL': 'DSL'})\n",
    "\n",
    "# Create a mapping of internet service to numeric values\n",
    "Service_mapping = { 'Optic' : 1, 'DSL' : 0}\n",
    "\n",
    "# Apply the mapping to create new binary columns for each survey score\n",
    "Service_columns = [\"Internet\"]\n",
    "\n",
    "for column in Service_columns:\n",
    "    df[column] = df[column].map(Service_mapping).astype(int)\n",
    "\n",
    "# Create dummy variables, keeping all data points\n",
    "dummy_columns = [\"Contract\", \"Gender\" , \"Area\"]\n",
    "df = pd.get_dummies(data=df, columns=dummy_columns, drop_first=False);\n",
    "\n",
    "# Identify the names of the dummy columns\n",
    "dummy_column_names = df.columns[df.columns.str.startswith(tuple(dummy_columns))]\n",
    "\n",
    "# Convert the dummy columns to integers (0/1)\n",
    "df[dummy_column_names] = df[dummy_column_names].astype(int)\n",
    "\n",
    "# Drop unnecessary columns from df\n",
    "Cdrop = [\"Customer_id\", \"Interaction\", \"UID\", \"City\", \"County\", \"Lat\", \"Lng\" , \"Marital\" ,\n",
    "            \"TimeZone\", \"Zip\" , \"Email\", \"Contacts\", \"Phone\", \"Tenure\" , \"Churn\" ,\n",
    "            \"State\", \"Population\", \"Job\" , \"Phone\" , \"PaymentMethod\" , \"PaperlessBilling\" , \"DeviceProtection\" ,\n",
    "            \"MonthlyCharge\" , \"Item1\" , \"Item2\" , \"Item3\" , \"Item4\" , \"Item5\" , \n",
    "             \"Item6\" , \"Item7\" , \"Item8\"]\n",
    "df.drop(columns=Cdrop, axis=1, inplace=True)\n",
    "\n",
    "# View resulting dataframe\n",
    "df.head()"
   ]
  },
  {
   "cell_type": "code",
   "execution_count": 7,
   "id": "7b711063-8ebe-4d6a-9354-07d1ff6f882a",
   "metadata": {
    "tags": []
   },
   "outputs": [
    {
     "name": "stdout",
     "output_type": "stream",
     "text": [
      "Children              0\n",
      "Age                   0\n",
      "Income                0\n",
      "Outages               0\n",
      "Equipment_Failures    0\n",
      "Techie                0\n",
      "Modem                 0\n",
      "Tablet                0\n",
      "Internet              0\n",
      "Multiple              0\n",
      "Online_Security       0\n",
      "Online_Backup         0\n",
      "Tech_Support          0\n",
      "Streaming_TV          0\n",
      "Streaming_Movies      0\n",
      "Bandwidth_Usage       0\n",
      "Contract_Month        0\n",
      "Contract_One          0\n",
      "Contract_Two          0\n",
      "Gender_Female         0\n",
      "Gender_Male           0\n",
      "Gender_Nonbinary      0\n",
      "Area_Rural            0\n",
      "Area_Suburban         0\n",
      "Area_Urban            0\n",
      "dtype: int64\n"
     ]
    }
   ],
   "source": [
    "# Check for missing values to ensure they were taken care of in previous step\n",
    "print(df.isnull().sum())"
   ]
  },
  {
   "cell_type": "code",
   "execution_count": 8,
   "id": "f3b291d2-ed69-45f1-a014-a11e228286f0",
   "metadata": {
    "tags": []
   },
   "outputs": [],
   "source": [
    "# Save the cleaned DataFrame to CSV\n",
    "df.to_csv('Clean_df.csv', index=False)"
   ]
  },
  {
   "cell_type": "code",
   "execution_count": 9,
   "id": "750f01d2-3221-465d-9309-dd876cfb4d45",
   "metadata": {
    "tags": []
   },
   "outputs": [],
   "source": [
    "# Begin anaylsis by separating the X variables (features) from the Y variable (target)\n",
    "Xdf2 = df.drop([\"Internet\"], axis=1)\n",
    "Ydf2 = df[\"Internet\"]"
   ]
  },
  {
   "cell_type": "code",
   "execution_count": 10,
   "id": "194b6802-e847-4868-8a31-6089ff96f31c",
   "metadata": {
    "tags": []
   },
   "outputs": [],
   "source": [
    "# Identify X and y for train/test split\n",
    "X = Xdf2\n",
    "y = Ydf2\n",
    "# Split the data into train and test sets, 70% train 30% test\n",
    "X_train, X_test, y_train, y_test = train_test_split(X, y, train_size = 0.7, test_size=0.3)"
   ]
  },
  {
   "cell_type": "code",
   "execution_count": 11,
   "id": "95a7c1a8-ef87-4ca1-9dbb-3712ab0732e1",
   "metadata": {
    "tags": []
   },
   "outputs": [],
   "source": [
    "# Save each data set to CSV\n",
    "X_train_df = pd.DataFrame(X_train)\n",
    "X_test_df = pd.DataFrame(X_test)\n",
    "y_train_df = pd.DataFrame(y_train)\n",
    "y_test_df = pd.DataFrame(y_test)\n",
    "X_train_df.to_csv('X_train.csv', index=False)\n",
    "X_test_df.to_csv('X_test.csv', index=False)\n",
    "y_train_df.to_csv('y_train.csv', index=False)\n",
    "y_test_df.to_csv('y_test.csv', index=False)"
   ]
  },
  {
   "cell_type": "code",
   "execution_count": 12,
   "id": "66a3bd63-6a8b-40ba-a9bc-ede2d06b5e83",
   "metadata": {
    "tags": []
   },
   "outputs": [
    {
     "data": {
      "text/html": [
       "<style>#sk-container-id-1 {color: black;}#sk-container-id-1 pre{padding: 0;}#sk-container-id-1 div.sk-toggleable {background-color: white;}#sk-container-id-1 label.sk-toggleable__label {cursor: pointer;display: block;width: 100%;margin-bottom: 0;padding: 0.3em;box-sizing: border-box;text-align: center;}#sk-container-id-1 label.sk-toggleable__label-arrow:before {content: \"▸\";float: left;margin-right: 0.25em;color: #696969;}#sk-container-id-1 label.sk-toggleable__label-arrow:hover:before {color: black;}#sk-container-id-1 div.sk-estimator:hover label.sk-toggleable__label-arrow:before {color: black;}#sk-container-id-1 div.sk-toggleable__content {max-height: 0;max-width: 0;overflow: hidden;text-align: left;background-color: #f0f8ff;}#sk-container-id-1 div.sk-toggleable__content pre {margin: 0.2em;color: black;border-radius: 0.25em;background-color: #f0f8ff;}#sk-container-id-1 input.sk-toggleable__control:checked~div.sk-toggleable__content {max-height: 200px;max-width: 100%;overflow: auto;}#sk-container-id-1 input.sk-toggleable__control:checked~label.sk-toggleable__label-arrow:before {content: \"▾\";}#sk-container-id-1 div.sk-estimator input.sk-toggleable__control:checked~label.sk-toggleable__label {background-color: #d4ebff;}#sk-container-id-1 div.sk-label input.sk-toggleable__control:checked~label.sk-toggleable__label {background-color: #d4ebff;}#sk-container-id-1 input.sk-hidden--visually {border: 0;clip: rect(1px 1px 1px 1px);clip: rect(1px, 1px, 1px, 1px);height: 1px;margin: -1px;overflow: hidden;padding: 0;position: absolute;width: 1px;}#sk-container-id-1 div.sk-estimator {font-family: monospace;background-color: #f0f8ff;border: 1px dotted black;border-radius: 0.25em;box-sizing: border-box;margin-bottom: 0.5em;}#sk-container-id-1 div.sk-estimator:hover {background-color: #d4ebff;}#sk-container-id-1 div.sk-parallel-item::after {content: \"\";width: 100%;border-bottom: 1px solid gray;flex-grow: 1;}#sk-container-id-1 div.sk-label:hover label.sk-toggleable__label {background-color: #d4ebff;}#sk-container-id-1 div.sk-serial::before {content: \"\";position: absolute;border-left: 1px solid gray;box-sizing: border-box;top: 0;bottom: 0;left: 50%;z-index: 0;}#sk-container-id-1 div.sk-serial {display: flex;flex-direction: column;align-items: center;background-color: white;padding-right: 0.2em;padding-left: 0.2em;position: relative;}#sk-container-id-1 div.sk-item {position: relative;z-index: 1;}#sk-container-id-1 div.sk-parallel {display: flex;align-items: stretch;justify-content: center;background-color: white;position: relative;}#sk-container-id-1 div.sk-item::before, #sk-container-id-1 div.sk-parallel-item::before {content: \"\";position: absolute;border-left: 1px solid gray;box-sizing: border-box;top: 0;bottom: 0;left: 50%;z-index: -1;}#sk-container-id-1 div.sk-parallel-item {display: flex;flex-direction: column;z-index: 1;position: relative;background-color: white;}#sk-container-id-1 div.sk-parallel-item:first-child::after {align-self: flex-end;width: 50%;}#sk-container-id-1 div.sk-parallel-item:last-child::after {align-self: flex-start;width: 50%;}#sk-container-id-1 div.sk-parallel-item:only-child::after {width: 0;}#sk-container-id-1 div.sk-dashed-wrapped {border: 1px dashed gray;margin: 0 0.4em 0.5em 0.4em;box-sizing: border-box;padding-bottom: 0.4em;background-color: white;}#sk-container-id-1 div.sk-label label {font-family: monospace;font-weight: bold;display: inline-block;line-height: 1.2em;}#sk-container-id-1 div.sk-label-container {text-align: center;}#sk-container-id-1 div.sk-container {/* jupyter's `normalize.less` sets `[hidden] { display: none; }` but bootstrap.min.css set `[hidden] { display: none !important; }` so we also need the `!important` here to be able to override the default hidden behavior on the sphinx rendered scikit-learn.org. See: https://github.com/scikit-learn/scikit-learn/issues/21755 */display: inline-block !important;position: relative;}#sk-container-id-1 div.sk-text-repr-fallback {display: none;}</style><div id=\"sk-container-id-1\" class=\"sk-top-container\"><div class=\"sk-text-repr-fallback\"><pre>RandomForestClassifier()</pre><b>In a Jupyter environment, please rerun this cell to show the HTML representation or trust the notebook. <br />On GitHub, the HTML representation is unable to render, please try loading this page with nbviewer.org.</b></div><div class=\"sk-container\" hidden><div class=\"sk-item\"><div class=\"sk-estimator sk-toggleable\"><input class=\"sk-toggleable__control sk-hidden--visually\" id=\"sk-estimator-id-1\" type=\"checkbox\" checked><label for=\"sk-estimator-id-1\" class=\"sk-toggleable__label sk-toggleable__label-arrow\">RandomForestClassifier</label><div class=\"sk-toggleable__content\"><pre>RandomForestClassifier()</pre></div></div></div></div></div>"
      ],
      "text/plain": [
       "RandomForestClassifier()"
      ]
     },
     "execution_count": 12,
     "metadata": {},
     "output_type": "execute_result"
    }
   ],
   "source": [
    "# Create and fit data to random forest classifier model\n",
    "rf = RandomForestClassifier()\n",
    "rf.fit(X_train, y_train)"
   ]
  },
  {
   "cell_type": "code",
   "execution_count": 13,
   "id": "a72d3ee6-8e55-47de-9633-703263ebdba5",
   "metadata": {},
   "outputs": [],
   "source": [
    "# Make predictions with initial model\n",
    "y_pred = rf.predict(X_test)"
   ]
  },
  {
   "cell_type": "code",
   "execution_count": 14,
   "id": "eac936df-bc20-4c91-bdcd-6403b3b65910",
   "metadata": {},
   "outputs": [
    {
     "name": "stdout",
     "output_type": "stream",
     "text": [
      "Accuracy: 0.6232006773920407\n",
      "F1 Score: 0.6903270702853167\n",
      "Mean Squared Error: 0.37679932260795934\n",
      "Confusion Matrix:\n",
      " [[480 544]\n",
      " [346 992]]\n",
      "ROC AUC: 0.6618670590433483\n"
     ]
    }
   ],
   "source": [
    "# Evaluate the model using accuracy, f1, MSE, confusion matrix and roc/auc\n",
    "accuracy = accuracy_score(y_test, y_pred)\n",
    "f1 = f1_score(y_test, y_pred)\n",
    "mse = mean_squared_error(y_test, y_pred)\n",
    "cmat = confusion_matrix(y_test, y_pred)\n",
    "roc_auc = roc_auc_score(y_test, rf.predict_proba(X_test)[:, 1])\n",
    "# Print scores\n",
    "print(\"Accuracy:\", accuracy)\n",
    "print(\"F1 Score:\", f1)\n",
    "print(f\"Mean Squared Error: {mse}\");\n",
    "print(\"Confusion Matrix:\\n\", cmat)\n",
    "print(\"ROC AUC:\", roc_auc)"
   ]
  },
  {
   "cell_type": "code",
   "execution_count": 15,
   "id": "82cac754-08cd-4fe6-8150-55f15eb095fc",
   "metadata": {
    "tags": []
   },
   "outputs": [
    {
     "data": {
      "text/html": [
       "<style>#sk-container-id-2 {color: black;}#sk-container-id-2 pre{padding: 0;}#sk-container-id-2 div.sk-toggleable {background-color: white;}#sk-container-id-2 label.sk-toggleable__label {cursor: pointer;display: block;width: 100%;margin-bottom: 0;padding: 0.3em;box-sizing: border-box;text-align: center;}#sk-container-id-2 label.sk-toggleable__label-arrow:before {content: \"▸\";float: left;margin-right: 0.25em;color: #696969;}#sk-container-id-2 label.sk-toggleable__label-arrow:hover:before {color: black;}#sk-container-id-2 div.sk-estimator:hover label.sk-toggleable__label-arrow:before {color: black;}#sk-container-id-2 div.sk-toggleable__content {max-height: 0;max-width: 0;overflow: hidden;text-align: left;background-color: #f0f8ff;}#sk-container-id-2 div.sk-toggleable__content pre {margin: 0.2em;color: black;border-radius: 0.25em;background-color: #f0f8ff;}#sk-container-id-2 input.sk-toggleable__control:checked~div.sk-toggleable__content {max-height: 200px;max-width: 100%;overflow: auto;}#sk-container-id-2 input.sk-toggleable__control:checked~label.sk-toggleable__label-arrow:before {content: \"▾\";}#sk-container-id-2 div.sk-estimator input.sk-toggleable__control:checked~label.sk-toggleable__label {background-color: #d4ebff;}#sk-container-id-2 div.sk-label input.sk-toggleable__control:checked~label.sk-toggleable__label {background-color: #d4ebff;}#sk-container-id-2 input.sk-hidden--visually {border: 0;clip: rect(1px 1px 1px 1px);clip: rect(1px, 1px, 1px, 1px);height: 1px;margin: -1px;overflow: hidden;padding: 0;position: absolute;width: 1px;}#sk-container-id-2 div.sk-estimator {font-family: monospace;background-color: #f0f8ff;border: 1px dotted black;border-radius: 0.25em;box-sizing: border-box;margin-bottom: 0.5em;}#sk-container-id-2 div.sk-estimator:hover {background-color: #d4ebff;}#sk-container-id-2 div.sk-parallel-item::after {content: \"\";width: 100%;border-bottom: 1px solid gray;flex-grow: 1;}#sk-container-id-2 div.sk-label:hover label.sk-toggleable__label {background-color: #d4ebff;}#sk-container-id-2 div.sk-serial::before {content: \"\";position: absolute;border-left: 1px solid gray;box-sizing: border-box;top: 0;bottom: 0;left: 50%;z-index: 0;}#sk-container-id-2 div.sk-serial {display: flex;flex-direction: column;align-items: center;background-color: white;padding-right: 0.2em;padding-left: 0.2em;position: relative;}#sk-container-id-2 div.sk-item {position: relative;z-index: 1;}#sk-container-id-2 div.sk-parallel {display: flex;align-items: stretch;justify-content: center;background-color: white;position: relative;}#sk-container-id-2 div.sk-item::before, #sk-container-id-2 div.sk-parallel-item::before {content: \"\";position: absolute;border-left: 1px solid gray;box-sizing: border-box;top: 0;bottom: 0;left: 50%;z-index: -1;}#sk-container-id-2 div.sk-parallel-item {display: flex;flex-direction: column;z-index: 1;position: relative;background-color: white;}#sk-container-id-2 div.sk-parallel-item:first-child::after {align-self: flex-end;width: 50%;}#sk-container-id-2 div.sk-parallel-item:last-child::after {align-self: flex-start;width: 50%;}#sk-container-id-2 div.sk-parallel-item:only-child::after {width: 0;}#sk-container-id-2 div.sk-dashed-wrapped {border: 1px dashed gray;margin: 0 0.4em 0.5em 0.4em;box-sizing: border-box;padding-bottom: 0.4em;background-color: white;}#sk-container-id-2 div.sk-label label {font-family: monospace;font-weight: bold;display: inline-block;line-height: 1.2em;}#sk-container-id-2 div.sk-label-container {text-align: center;}#sk-container-id-2 div.sk-container {/* jupyter's `normalize.less` sets `[hidden] { display: none; }` but bootstrap.min.css set `[hidden] { display: none !important; }` so we also need the `!important` here to be able to override the default hidden behavior on the sphinx rendered scikit-learn.org. See: https://github.com/scikit-learn/scikit-learn/issues/21755 */display: inline-block !important;position: relative;}#sk-container-id-2 div.sk-text-repr-fallback {display: none;}</style><div id=\"sk-container-id-2\" class=\"sk-top-container\"><div class=\"sk-text-repr-fallback\"><pre>RandomizedSearchCV(cv=5, estimator=RandomForestClassifier(), n_iter=5,\n",
       "                   param_distributions={&#x27;max_depth&#x27;: &lt;scipy.stats._distn_infrastructure.rv_discrete_frozen object at 0x0000022FB5D54590&gt;,\n",
       "                                        &#x27;n_estimators&#x27;: &lt;scipy.stats._distn_infrastructure.rv_discrete_frozen object at 0x0000022FBC838ED0&gt;})</pre><b>In a Jupyter environment, please rerun this cell to show the HTML representation or trust the notebook. <br />On GitHub, the HTML representation is unable to render, please try loading this page with nbviewer.org.</b></div><div class=\"sk-container\" hidden><div class=\"sk-item sk-dashed-wrapped\"><div class=\"sk-label-container\"><div class=\"sk-label sk-toggleable\"><input class=\"sk-toggleable__control sk-hidden--visually\" id=\"sk-estimator-id-2\" type=\"checkbox\" ><label for=\"sk-estimator-id-2\" class=\"sk-toggleable__label sk-toggleable__label-arrow\">RandomizedSearchCV</label><div class=\"sk-toggleable__content\"><pre>RandomizedSearchCV(cv=5, estimator=RandomForestClassifier(), n_iter=5,\n",
       "                   param_distributions={&#x27;max_depth&#x27;: &lt;scipy.stats._distn_infrastructure.rv_discrete_frozen object at 0x0000022FB5D54590&gt;,\n",
       "                                        &#x27;n_estimators&#x27;: &lt;scipy.stats._distn_infrastructure.rv_discrete_frozen object at 0x0000022FBC838ED0&gt;})</pre></div></div></div><div class=\"sk-parallel\"><div class=\"sk-parallel-item\"><div class=\"sk-item\"><div class=\"sk-label-container\"><div class=\"sk-label sk-toggleable\"><input class=\"sk-toggleable__control sk-hidden--visually\" id=\"sk-estimator-id-3\" type=\"checkbox\" ><label for=\"sk-estimator-id-3\" class=\"sk-toggleable__label sk-toggleable__label-arrow\">estimator: RandomForestClassifier</label><div class=\"sk-toggleable__content\"><pre>RandomForestClassifier()</pre></div></div></div><div class=\"sk-serial\"><div class=\"sk-item\"><div class=\"sk-estimator sk-toggleable\"><input class=\"sk-toggleable__control sk-hidden--visually\" id=\"sk-estimator-id-4\" type=\"checkbox\" ><label for=\"sk-estimator-id-4\" class=\"sk-toggleable__label sk-toggleable__label-arrow\">RandomForestClassifier</label><div class=\"sk-toggleable__content\"><pre>RandomForestClassifier()</pre></div></div></div></div></div></div></div></div></div></div>"
      ],
      "text/plain": [
       "RandomizedSearchCV(cv=5, estimator=RandomForestClassifier(), n_iter=5,\n",
       "                   param_distributions={'max_depth': <scipy.stats._distn_infrastructure.rv_discrete_frozen object at 0x0000022FB5D54590>,\n",
       "                                        'n_estimators': <scipy.stats._distn_infrastructure.rv_discrete_frozen object at 0x0000022FBC838ED0>})"
      ]
     },
     "execution_count": 15,
     "metadata": {},
     "output_type": "execute_result"
    }
   ],
   "source": [
    "# Complete hyperparameter Tuning to create final model\n",
    "param_dist = {'n_estimators': randint(50,500),\n",
    "              'max_depth': randint(1,20)}\n",
    "\n",
    "rf = RandomForestClassifier()\n",
    "\n",
    "# Use random search to find the best hyperparameters\n",
    "rand_search = RandomizedSearchCV(rf, \n",
    "                                 param_distributions = param_dist, \n",
    "                                 n_iter=5, \n",
    "                                 cv=5)\n",
    "\n",
    "# Fit the random search object to the data\n",
    "rand_search.fit(X_train, y_train)"
   ]
  },
  {
   "cell_type": "code",
   "execution_count": 16,
   "id": "0d8f095c-d621-4387-839d-2bff104c0f16",
   "metadata": {
    "tags": []
   },
   "outputs": [
    {
     "name": "stdout",
     "output_type": "stream",
     "text": [
      "Best hyperparameters: {'max_depth': 11, 'n_estimators': 254}\n"
     ]
    }
   ],
   "source": [
    "# Create a variable for the best model\n",
    "Final_best = rand_search.best_estimator_\n",
    "\n",
    "# Print the best hyperparameters\n",
    "print('Best hyperparameters:',  rand_search.best_params_)"
   ]
  },
  {
   "cell_type": "code",
   "execution_count": 17,
   "id": "55eb61df-07a5-4b16-ad3a-7510d4de8cca",
   "metadata": {
    "tags": []
   },
   "outputs": [
    {
     "data": {
      "text/html": [
       "<style>#sk-container-id-3 {color: black;}#sk-container-id-3 pre{padding: 0;}#sk-container-id-3 div.sk-toggleable {background-color: white;}#sk-container-id-3 label.sk-toggleable__label {cursor: pointer;display: block;width: 100%;margin-bottom: 0;padding: 0.3em;box-sizing: border-box;text-align: center;}#sk-container-id-3 label.sk-toggleable__label-arrow:before {content: \"▸\";float: left;margin-right: 0.25em;color: #696969;}#sk-container-id-3 label.sk-toggleable__label-arrow:hover:before {color: black;}#sk-container-id-3 div.sk-estimator:hover label.sk-toggleable__label-arrow:before {color: black;}#sk-container-id-3 div.sk-toggleable__content {max-height: 0;max-width: 0;overflow: hidden;text-align: left;background-color: #f0f8ff;}#sk-container-id-3 div.sk-toggleable__content pre {margin: 0.2em;color: black;border-radius: 0.25em;background-color: #f0f8ff;}#sk-container-id-3 input.sk-toggleable__control:checked~div.sk-toggleable__content {max-height: 200px;max-width: 100%;overflow: auto;}#sk-container-id-3 input.sk-toggleable__control:checked~label.sk-toggleable__label-arrow:before {content: \"▾\";}#sk-container-id-3 div.sk-estimator input.sk-toggleable__control:checked~label.sk-toggleable__label {background-color: #d4ebff;}#sk-container-id-3 div.sk-label input.sk-toggleable__control:checked~label.sk-toggleable__label {background-color: #d4ebff;}#sk-container-id-3 input.sk-hidden--visually {border: 0;clip: rect(1px 1px 1px 1px);clip: rect(1px, 1px, 1px, 1px);height: 1px;margin: -1px;overflow: hidden;padding: 0;position: absolute;width: 1px;}#sk-container-id-3 div.sk-estimator {font-family: monospace;background-color: #f0f8ff;border: 1px dotted black;border-radius: 0.25em;box-sizing: border-box;margin-bottom: 0.5em;}#sk-container-id-3 div.sk-estimator:hover {background-color: #d4ebff;}#sk-container-id-3 div.sk-parallel-item::after {content: \"\";width: 100%;border-bottom: 1px solid gray;flex-grow: 1;}#sk-container-id-3 div.sk-label:hover label.sk-toggleable__label {background-color: #d4ebff;}#sk-container-id-3 div.sk-serial::before {content: \"\";position: absolute;border-left: 1px solid gray;box-sizing: border-box;top: 0;bottom: 0;left: 50%;z-index: 0;}#sk-container-id-3 div.sk-serial {display: flex;flex-direction: column;align-items: center;background-color: white;padding-right: 0.2em;padding-left: 0.2em;position: relative;}#sk-container-id-3 div.sk-item {position: relative;z-index: 1;}#sk-container-id-3 div.sk-parallel {display: flex;align-items: stretch;justify-content: center;background-color: white;position: relative;}#sk-container-id-3 div.sk-item::before, #sk-container-id-3 div.sk-parallel-item::before {content: \"\";position: absolute;border-left: 1px solid gray;box-sizing: border-box;top: 0;bottom: 0;left: 50%;z-index: -1;}#sk-container-id-3 div.sk-parallel-item {display: flex;flex-direction: column;z-index: 1;position: relative;background-color: white;}#sk-container-id-3 div.sk-parallel-item:first-child::after {align-self: flex-end;width: 50%;}#sk-container-id-3 div.sk-parallel-item:last-child::after {align-self: flex-start;width: 50%;}#sk-container-id-3 div.sk-parallel-item:only-child::after {width: 0;}#sk-container-id-3 div.sk-dashed-wrapped {border: 1px dashed gray;margin: 0 0.4em 0.5em 0.4em;box-sizing: border-box;padding-bottom: 0.4em;background-color: white;}#sk-container-id-3 div.sk-label label {font-family: monospace;font-weight: bold;display: inline-block;line-height: 1.2em;}#sk-container-id-3 div.sk-label-container {text-align: center;}#sk-container-id-3 div.sk-container {/* jupyter's `normalize.less` sets `[hidden] { display: none; }` but bootstrap.min.css set `[hidden] { display: none !important; }` so we also need the `!important` here to be able to override the default hidden behavior on the sphinx rendered scikit-learn.org. See: https://github.com/scikit-learn/scikit-learn/issues/21755 */display: inline-block !important;position: relative;}#sk-container-id-3 div.sk-text-repr-fallback {display: none;}</style><div id=\"sk-container-id-3\" class=\"sk-top-container\"><div class=\"sk-text-repr-fallback\"><pre>RandomForestClassifier(max_depth=11, n_estimators=254)</pre><b>In a Jupyter environment, please rerun this cell to show the HTML representation or trust the notebook. <br />On GitHub, the HTML representation is unable to render, please try loading this page with nbviewer.org.</b></div><div class=\"sk-container\" hidden><div class=\"sk-item\"><div class=\"sk-estimator sk-toggleable\"><input class=\"sk-toggleable__control sk-hidden--visually\" id=\"sk-estimator-id-5\" type=\"checkbox\" checked><label for=\"sk-estimator-id-5\" class=\"sk-toggleable__label sk-toggleable__label-arrow\">RandomForestClassifier</label><div class=\"sk-toggleable__content\"><pre>RandomForestClassifier(max_depth=11, n_estimators=254)</pre></div></div></div></div></div>"
      ],
      "text/plain": [
       "RandomForestClassifier(max_depth=11, n_estimators=254)"
      ]
     },
     "execution_count": 17,
     "metadata": {},
     "output_type": "execute_result"
    }
   ],
   "source": [
    "# Generate predictions with the best model\n",
    "y_pred = Final_best.predict(X_test)\n",
    "Final_best.fit(X_train, y_train)"
   ]
  },
  {
   "cell_type": "code",
   "execution_count": 18,
   "id": "645ee387-a1bb-48bb-a1f2-56a8b0e9aa78",
   "metadata": {},
   "outputs": [
    {
     "name": "stdout",
     "output_type": "stream",
     "text": [
      "Accuracy: 0.6236240474174428\n",
      "F1 Score: 0.7146067415730336\n",
      "Mean Squared Error: 0.3763759525825571\n",
      "Confusion Matrix:\n",
      " [[ 360  664]\n",
      " [ 225 1113]]\n",
      "ROC AUC: 0.6522656541946936\n"
     ]
    }
   ],
   "source": [
    "# Evaluate the final model using accuracy, f1, MSE confusion matrix and roc/auc\n",
    "accuracy = accuracy_score(y_test, y_pred)\n",
    "f1 = f1_score(y_test, y_pred)\n",
    "cmat = confusion_matrix(y_test, y_pred)\n",
    "roc_auc = roc_auc_score(y_test, Final_best.predict_proba(X_test)[:, 1])\n",
    "mse = mean_squared_error(y_test, y_pred)\n",
    "# Print scores\n",
    "print(\"Accuracy:\", accuracy)\n",
    "print(\"F1 Score:\", f1)\n",
    "print(f\"Mean Squared Error: {mse}\");\n",
    "print(\"Confusion Matrix:\\n\", cmat)\n",
    "print(\"ROC AUC:\", roc_auc)"
   ]
  },
  {
   "cell_type": "code",
   "execution_count": 19,
   "id": "4de66921-e6c7-4dad-bd39-5992680fd828",
   "metadata": {},
   "outputs": [
    {
     "data": {
      "image/png": "[encoded data removed]",
      "text/plain": [
       "<Figure size 640x480 with 1 Axes>"
      ]
     },
     "metadata": {},
     "output_type": "display_data"
    }
   ],
   "source": [
    "# Plot ROC Curve for reduced model\n",
    "fpr, tpr, thresholds = roc_curve(y_test, y_pred)\n",
    "plt.plot([0, 1], [0, 1], 'k--')\n",
    "plt.plot(fpr, tpr)\n",
    "plt.xlabel('Rate of False Positives')\n",
    "plt.ylabel('Rate of True Positives')\n",
    "plt.title('ROC Curve')\n",
    "plt.show()"
   ]
  },
  {
   "cell_type": "code",
   "execution_count": 20,
   "id": "cf743ba0-283f-45cf-94ba-71e9b73285dc",
   "metadata": {
    "tags": []
   },
   "outputs": [
    {
     "data": {
      "image/png": "[encoded data removed]",
      "text/plain": [
       "<Figure size 640x480 with 2 Axes>"
      ]
     },
     "metadata": {},
     "output_type": "display_data"
    }
   ],
   "source": [
    "# Create the confusion matrix\n",
    "cm = confusion_matrix(y_test, y_pred)\n",
    "# Display confusion matrix\n",
    "ConfusionMatrixDisplay(confusion_matrix=cm).plot();"
   ]
  },
  {
   "cell_type": "code",
   "execution_count": 21,
   "id": "3f74d686-6eac-4b79-8a2a-e48deffe6acb",
   "metadata": {
    "tags": []
   },
   "outputs": [],
   "source": [
    "# Combine Xdf and Ydf into a new DataFrame named Cdf\n",
    "Cdf = pd.concat([Xdf2, Ydf2.reset_index().drop('CaseOrder', axis=1)])\n",
    "\n",
    "# Save the combined DataFrame to CSV\n",
    "Cdf.to_csv('Cdf.csv', index=False)"
   ]
  },
  {
   "cell_type": "code",
   "execution_count": null,
   "id": "3cff5204-539b-48c2-8b3c-4ea36fa2a2d7",
   "metadata": {},
   "outputs": [],
   "source": []
  }
 ],
 "metadata": {
  "kernelspec": {
   "display_name": "Python 3 (ipykernel)",
   "language": "python",
   "name": "python3"
  },
  "language_info": {
   "codemirror_mode": {
    "name": "ipython",
    "version": 3
   },
   "file_extension": ".py",
   "mimetype": "text/x-python",
   "name": "python",
   "nbconvert_exporter": "python",
   "pygments_lexer": "ipython3",
   "version": "3.11.4"
  }
 },
 "nbformat": 4,
 "nbformat_minor": 5
}
